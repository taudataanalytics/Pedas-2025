{
 "cells": [
  {
   "cell_type": "code",
   "execution_count": 1,
   "id": "5c366c78-e014-421a-b26b-5af765f7e5cd",
   "metadata": {},
   "outputs": [
    {
     "data": {
      "text/plain": [
       "((35, 9), (35, 7))"
      ]
     },
     "execution_count": 1,
     "metadata": {},
     "output_type": "execute_result"
    }
   ],
   "source": [
    "import warnings; warnings.simplefilter('ignore')\n",
    "import pandas as pd \n",
    "from sklearn import preprocessing\n",
    "from tqdm import tqdm\n",
    "\n",
    "fPeserta = \"data/dataTransaksi_PeDaS_2024_Kelompok01.csv\" # Contoh data (Random)\n",
    "fGT = \"data/dataTransaksi_PeDaS_2024_Test_Panitia.zip\"\n",
    "dfGT = pd.read_csv(fGT, compression='zip')\n",
    "df = pd.read_csv(fPeserta)\n",
    "\n",
    "if dfGT.shape[0] != df.shape[0]:\n",
    "    print(\"warning banyak data jawaban peserta tidak sesuai\")\n",
    "dfGT.shape, df.shape, "
   ]
  },
  {
   "cell_type": "code",
   "execution_count": 2,
   "id": "a1ccf53e-24e8-446c-ac5b-f64e4d3af614",
   "metadata": {},
   "outputs": [
    {
     "data": {
      "text/html": [
       "<div>\n",
       "<style scoped>\n",
       "    .dataframe tbody tr th:only-of-type {\n",
       "        vertical-align: middle;\n",
       "    }\n",
       "\n",
       "    .dataframe tbody tr th {\n",
       "        vertical-align: top;\n",
       "    }\n",
       "\n",
       "    .dataframe thead th {\n",
       "        text-align: right;\n",
       "    }\n",
       "</style>\n",
       "<table border=\"1\" class=\"dataframe\">\n",
       "  <thead>\n",
       "    <tr style=\"text-align: right;\">\n",
       "      <th></th>\n",
       "      <th>trx_code</th>\n",
       "      <th>trx_id</th>\n",
       "      <th>rek_code</th>\n",
       "      <th>rek</th>\n",
       "      <th>creationdate</th>\n",
       "      <th>type</th>\n",
       "      <th>amount</th>\n",
       "      <th>balance</th>\n",
       "      <th>Occurence</th>\n",
       "    </tr>\n",
       "  </thead>\n",
       "  <tbody>\n",
       "    <tr>\n",
       "      <th>0</th>\n",
       "      <td>233822</td>\n",
       "      <td>371848437</td>\n",
       "      <td>1922</td>\n",
       "      <td>2526</td>\n",
       "      <td>2024-10-21 20:02:14+07:00</td>\n",
       "      <td>5</td>\n",
       "      <td>-200000.00</td>\n",
       "      <td>905063.62</td>\n",
       "      <td>350</td>\n",
       "    </tr>\n",
       "    <tr>\n",
       "      <th>1</th>\n",
       "      <td>281563</td>\n",
       "      <td>370918907</td>\n",
       "      <td>2346</td>\n",
       "      <td>9437</td>\n",
       "      <td>2024-10-17 08:23:41+07:00</td>\n",
       "      <td>5</td>\n",
       "      <td>-2000000.00</td>\n",
       "      <td>1219.17</td>\n",
       "      <td>422</td>\n",
       "    </tr>\n",
       "    <tr>\n",
       "      <th>2</th>\n",
       "      <td>310541</td>\n",
       "      <td>370287760</td>\n",
       "      <td>2212</td>\n",
       "      <td>5908</td>\n",
       "      <td>2024-10-14 07:44:47+07:00</td>\n",
       "      <td>5</td>\n",
       "      <td>-100000.00</td>\n",
       "      <td>1023.37</td>\n",
       "      <td>352</td>\n",
       "    </tr>\n",
       "    <tr>\n",
       "      <th>3</th>\n",
       "      <td>37018</td>\n",
       "      <td>370872355</td>\n",
       "      <td>3799</td>\n",
       "      <td>7665</td>\n",
       "      <td>2024-10-16 23:04:24+07:00</td>\n",
       "      <td>5</td>\n",
       "      <td>-50000.00</td>\n",
       "      <td>121557.59</td>\n",
       "      <td>375</td>\n",
       "    </tr>\n",
       "    <tr>\n",
       "      <th>4</th>\n",
       "      <td>142422</td>\n",
       "      <td>362772092</td>\n",
       "      <td>7868</td>\n",
       "      <td>825</td>\n",
       "      <td>2024-10-01 00:13:21+07:00</td>\n",
       "      <td>7</td>\n",
       "      <td>-735.64</td>\n",
       "      <td>3942.57</td>\n",
       "      <td>447</td>\n",
       "    </tr>\n",
       "  </tbody>\n",
       "</table>\n",
       "</div>"
      ],
      "text/plain": [
       "   trx_code     trx_id  rek_code   rek               creationdate  type  \\\n",
       "0    233822  371848437      1922  2526  2024-10-21 20:02:14+07:00     5   \n",
       "1    281563  370918907      2346  9437  2024-10-17 08:23:41+07:00     5   \n",
       "2    310541  370287760      2212  5908  2024-10-14 07:44:47+07:00     5   \n",
       "3     37018  370872355      3799  7665  2024-10-16 23:04:24+07:00     5   \n",
       "4    142422  362772092      7868   825  2024-10-01 00:13:21+07:00     7   \n",
       "\n",
       "       amount    balance  Occurence  \n",
       "0  -200000.00  905063.62        350  \n",
       "1 -2000000.00    1219.17        422  \n",
       "2  -100000.00    1023.37        352  \n",
       "3   -50000.00  121557.59        375  \n",
       "4     -735.64    3942.57        447  "
      ]
     },
     "execution_count": 2,
     "metadata": {},
     "output_type": "execute_result"
    }
   ],
   "source": [
    "dfGT.head()"
   ]
  },
  {
   "cell_type": "code",
   "execution_count": 4,
   "id": "708560ca-6dd0-4b87-b04d-aed3c8164184",
   "metadata": {},
   "outputs": [
    {
     "name": "stdout",
     "output_type": "stream",
     "text": [
      "Nilai SMAPE =  165.63966367725382\n"
     ]
    }
   ],
   "source": [
    "from darts.metrics import smape\n",
    "from darts import TimeSeries\n",
    "\n",
    "gt = TimeSeries.from_values(dfGT['balance'])\n",
    "pred = TimeSeries.from_values(df['balance'])\n",
    "\n",
    "skor = smape(gt,pred)\n",
    "print(\"Nilai SMAPE = \", skor)"
   ]
  },
  {
   "cell_type": "code",
   "execution_count": null,
   "id": "1cb7f0c3-5e0f-4f6e-be1e-3e2fe874ea2a",
   "metadata": {},
   "outputs": [],
   "source": []
  }
 ],
 "metadata": {
  "kernelspec": {
   "display_name": "Python 3 (ipykernel)",
   "language": "python",
   "name": "python3"
  },
  "language_info": {
   "codemirror_mode": {
    "name": "ipython",
    "version": 3
   },
   "file_extension": ".py",
   "mimetype": "text/x-python",
   "name": "python",
   "nbconvert_exporter": "python",
   "pygments_lexer": "ipython3",
   "version": "3.10.14"
  }
 },
 "nbformat": 4,
 "nbformat_minor": 5
}
