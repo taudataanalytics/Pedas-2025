{
 "cells": [
  {
   "cell_type": "markdown",
   "id": "d4ff0d50-25cc-489c-ba41-5b2f5042324b",
   "metadata": {},
   "source": [
    "# <center><font color=\"red\">Pesta Data Nasional (PeDaS) 2025 - Day 01</font> <br> <font color=\"blue\">Pendahuluan (Univariate) Time Series Forecasting</font></center>\n",
    "<center><img alt=\"\" src=\"images/head-pedas-2025.jpg\"/></center> \n",
    "\n",
    "### <center><font color=\"green\">Copyright ~ Taufik Sutanto 2025</font></center>"
   ]
  },
  {
   "cell_type": "markdown",
   "id": "80c977b9-2fef-48f1-830c-b25f67376ed0",
   "metadata": {},
   "source": [
    "# Pendahuluan\n",
    "\n",
    "Apa yang akan Anda lakukan jika Anda mengetahui seperti apa masa depan itu? Bagi sebagian orang, jawabannya mungkin \" ***membeli bitcoin di tahun 2017***.\" Bagi para pengecer, jawabannya mungkin \"***menimbun stok kertas toilet atau chip silikon di tahun 2019***.\" Apa pun jawaban Anda, kita dapat sepakat bahwa memiliki informasi tentang masa depan akan sangat menguntungkan.\n",
    "\n",
    "Kita dapat memodelkan perilaku dari deret waktu dengan cukup baik sehingga memungkinkan untuk membuat prediksi masa depan yang cukup akurat.\n",
    "\n",
    "## Deret Waktu\n",
    "**Deret waktu** adalah rangkaian titik data yang bergantung pada waktu. Artinya, setiap titik data memiliki cap waktu yang melekat padanya. Idealnya, titik-titik data ini diukur pada interval yang konstan (misalnya, setiap hari) dan dalam urutan kronologis (misalnya, Senin, Selasa, Rabu, dan seterusnya).\n",
    "\n",
    "<center><img alt=\"\" src=\"images/contoh-timeseries.png\"/></center>"
   ]
  },
  {
   "cell_type": "markdown",
   "id": "7db202f5-0c38-4a08-a9e3-6436d2ee224c",
   "metadata": {},
   "source": [
    "Deret waktu biasanya berupa nilai numerik, misalnya data penjualan, tetapi dapat juga berupa nilai kategorikal, seperti data kejadian. Data deret waktu biasanya disajikan dalam format tabular (misal, file Spreadsheet atau Tabel dari Database) dengan satu kolom untuk cap waktu dan setidaknya satu kolom untuk nilai deret waktu.\n",
    "\n",
    "<center><img alt=\"\" src=\"images/contoh-tabel-timeseries.png\"/></center>"
   ]
  },
  {
   "cell_type": "markdown",
   "id": "7c8cc1e4-f99f-4e99-9ff6-f2f2bd8e9d64",
   "metadata": {},
   "source": [
    "# Apa Itu Analisis Deret Waktu? (_Time Series Analysis_)\n",
    "\n",
    "Analisis deret waktu mirip dengan *Analisis Data Eksploratif* (EDA) dalam alur kerja Data Science karena menganalisis hubungan antar variabel dan nilai pencilan. Selain itu, analisis ini bertujuan menemukan tren jangka panjang atau pola berulang jangka pendek.\n",
    "\n",
    "Seperti teknik EDA standar, pemetaan data dan perhitungan karakteristik statistik seperti rata-rata dan deviasi standar juga penting dalam analisis deret waktu. Namun, diperlukan metode tambahan untuk mengeksplorasi dimensi waktu yang lebih kompleks.\n",
    "\n",
    "<center><img alt=\"\" src=\"images/apa-itu-tsa.png\"/></center>\n",
    "\n",
    "Di satu sisi, analisis deret waktu dapat menjadi konsep yang berdiri sendiri. Di sisi lain, analisis ini dapat menjadi langkah EDA dalam alur kerja peramalan deret waktu karena wawasan yang diperoleh mengenai deret waktu dan polanya dapat membantu menentukan model yang akan digunakan."
   ]
  },
  {
   "cell_type": "markdown",
   "id": "969ffd93-b585-43e1-9c5c-cb9d24d9bf15",
   "metadata": {},
   "source": [
    "# Apa Itu Peramalan Deret Waktu?  (_Time Series Forecasting_)\n",
    "Dalam peramalan deret waktu, kita berusaha memprediksi bagaimana kelanjutan dari serangkaian observasi di masa depan. Untuk tujuan ini, kita pertama-tama menganalisis data historis, mirip dengan analisis deret waktu. Kemudian, kita menerapkan model pada data historis tersebut untuk membuat prediksi.\n",
    "\n",
    "<center><img alt=\"\" src=\"images/apa-itu-tsf.png\"/></center>\n",
    "\n",
    "Peramalan deret waktu memiliki berbagai macam pengaturan masalah. Perbedaan ini dapat dilihat dari aspek berikut:  \n",
    "- jumlah deret waktu yang diamati untuk diprediksi  \n",
    "- rentang waktu prediksi (jangka pendek vs. jangka panjang)"
   ]
  },
  {
   "cell_type": "markdown",
   "id": "ccd7e959-ec65-4a4e-b436-8c656d831b89",
   "metadata": {},
   "source": [
    "<center><img alt=\"\" src=\"images/ts-mindmap.jpg\"/></center>"
   ]
  },
  {
   "cell_type": "markdown",
   "id": "3b379720-e344-4882-b1e5-a35903fd7214",
   "metadata": {},
   "source": [
    "# **Kasus Penggunaan Analisis dan Peramalan Deret Waktu**  \n",
    "Analisis dan peramalan deret waktu memiliki berbagai kasus penggunaan. Berikut beberapa contohnya:  \n",
    "\n",
    "1. **Keuangan**: Salah satu contoh paling populer dari peramalan deret waktu adalah prediksi harga saham. Meskipun banyak yang ingin mengetahui cara menghitung saham mana yang akan menjadi \"Google\" atau \"Amazon\" berikutnya, ini juga merupakan salah satu kasus penggunaan yang paling menantang dalam peramalan deret waktu.  \n",
    "\n",
    "2. **Cuaca**: Contoh umum lainnya dari peramalan deret waktu adalah prakiraan cuaca. Ini juga menjadi contoh yang baik untuk menunjukkan bahwa prakiraan dengan cakupan waktu prediksi yang lebih pendek (misalnya, cuaca esok hari) biasanya lebih dapat diandalkan dibandingkan dengan cakupan waktu prediksi yang lebih panjang (misalnya, cuaca seminggu dari sekarang).  \n",
    "\n",
    "3. **Permintaan**: Hampir semua yang berkaitan dengan permintaan adalah kasus penggunaan yang baik untuk analisis dan peramalan deret waktu. Contohnya meliputi pembangkitan listrik, inventaris toko, penjadwalan staf, jumlah penumpang di bus atau penerbangan, serta lalu lintas di jalan raya.  \n",
    "\n",
    "Seperti yang dapat dilihat, beberapa jenis deret waktu lebih mudah untuk diprediksi dibandingkan yang lain. Hal ini bergantung pada faktor-faktor berikut:  \n",
    "- Seberapa baik kita memahami faktor-faktor yang memengaruhi?  \n",
    "- Seberapa banyak data yang tersedia?  \n",
    "- Seberapa mirip masa depan dengan masa lalu"
   ]
  },
  {
   "cell_type": "markdown",
   "id": "2977a1e4-358d-4798-ac4b-1dac8ac7f627",
   "metadata": {},
   "source": [
    "# **Dasar-Dasar Analisis Deret Waktu**  \n",
    "\n",
    "**Komponen-Komponen Deret Waktu**  \n",
    "Ketika memilih metode peramalan, sebaiknya kita mengidentifikasi pola dalam data deret waktu dan kemudian memilih model yang dapat menangkap pola tersebut dengan tepat. Sebuah deret waktu yang diamati dapat diuraikan menjadi lima komponen berikut:  \n",
    "- **Level**: Nilai rata-rata.  \n",
    "- **Tren**: Kecenderungan jangka panjang yang meningkat atau menurun.  \n",
    "- **Musiman (Seasonality)**: Pola berulang jangka pendek pada periode tetap, misalnya mingguan, bulanan, atau tahunan.  \n",
    "- **Siklus (Cycle)**: Pola berulang jangka pendek (tidak pada periode tetap).  \n",
    "- **Noise**: Fluktuasi jangka pendek yang tidak teratur atau bahkan acak.  \n",
    "\n",
    "Pola musiman dan siklikal sering sulit dibedakan dalam data deret waktu. Jika frekuensi pola berulang konstan terhadap kalender, maka pola tersebut dianggap musiman. Jika tidak, pola tersebut dianggap siklikal.  \n",
    "\n",
    "Kita dapat menggunakan fungsi `seasonal_decompose()` dari pustaka *statsmodels*. Ini adalah metode dekomposisi sederhana yang memisahkan deret waktu menjadi tiga komponen: tren, musiman, dan noise (residual)."
   ]
  },
  {
   "cell_type": "code",
   "execution_count": 1,
   "id": "c96870b7-cfb2-467e-9004-4c9da8e50f54",
   "metadata": {},
   "outputs": [
    {
     "name": "stdout",
     "output_type": "stream",
     "text": [
      "Running the code locally, please make sure all the python module versions agree with colab environment and all data/assets downloaded\n"
     ]
    }
   ],
   "source": [
    "import warnings; warnings.simplefilter('ignore')\n",
    "try:\n",
    "    import google.colab\n",
    "    IN_COLAB = True\n",
    "    !mkdir data models images\n",
    "    !pip install darts ipywidgets utils --q\n",
    "except:\n",
    "    IN_COLAB = False\n",
    "    print(\"Running the code locally, please make sure all the python module versions agree with colab environment and all data/assets downloaded\")"
   ]
  },
  {
   "cell_type": "code",
   "execution_count": null,
   "id": "a41a18df-df77-4802-bd2c-5e9505a06014",
   "metadata": {},
   "outputs": [],
   "source": []
  }
 ],
 "metadata": {
  "kernelspec": {
   "display_name": "Python 3 (ipykernel)",
   "language": "python",
   "name": "python3"
  },
  "language_info": {
   "codemirror_mode": {
    "name": "ipython",
    "version": 3
   },
   "file_extension": ".py",
   "mimetype": "text/x-python",
   "name": "python",
   "nbconvert_exporter": "python",
   "pygments_lexer": "ipython3",
   "version": "3.12.11"
  }
 },
 "nbformat": 4,
 "nbformat_minor": 5
}
