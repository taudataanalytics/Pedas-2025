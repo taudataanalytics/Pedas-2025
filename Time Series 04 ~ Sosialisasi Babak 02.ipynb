{
 "cells": [
  {
   "cell_type": "code",
   "execution_count": 5,
   "id": "5c366c78-e014-421a-b26b-5af765f7e5cd",
   "metadata": {},
   "outputs": [
    {
     "name": "stdout",
     "output_type": "stream",
     "text": [
      "16615 16615 35\n",
      "<class 'pandas.core.frame.DataFrame'>\n",
      "RangeIndex: 16615 entries, 0 to 16614\n",
      "Data columns (total 8 columns):\n",
      " #   Column        Non-Null Count  Dtype  \n",
      "---  ------        --------------  -----  \n",
      " 0   trx_code      16615 non-null  int64  \n",
      " 1   trx_id        16615 non-null  int64  \n",
      " 2   rek_code      16615 non-null  int64  \n",
      " 3   rek           16615 non-null  int64  \n",
      " 4   creationdate  16615 non-null  object \n",
      " 5   type          16615 non-null  int64  \n",
      " 6   amount        16029 non-null  float64\n",
      " 7   balance       16615 non-null  float64\n",
      "dtypes: float64(2), int64(5), object(1)\n",
      "memory usage: 1.0+ MB\n"
     ]
    }
   ],
   "source": [
    "import warnings; warnings.simplefilter('ignore')\n",
    "import pandas as pd \n",
    "from sklearn import preprocessing\n",
    "from tqdm import tqdm\n",
    "\n",
    "fTrain = \"data/dataTransaksi_PeDaS_2024_Train.zip\"\n",
    "dfTrain = pd.read_csv(fTrain, compression='zip')\n",
    "print(len(dfTrain.trx_code.unique()), len(dfTrain.trx_id.unique()), len(dfTrain.rek_code.unique()))\n",
    "dfTrain.info()"
   ]
  },
  {
   "cell_type": "code",
   "execution_count": 2,
   "id": "708560ca-6dd0-4b87-b04d-aed3c8164184",
   "metadata": {},
   "outputs": [
    {
     "data": {
      "text/html": [
       "<div>\n",
       "<style scoped>\n",
       "    .dataframe tbody tr th:only-of-type {\n",
       "        vertical-align: middle;\n",
       "    }\n",
       "\n",
       "    .dataframe tbody tr th {\n",
       "        vertical-align: top;\n",
       "    }\n",
       "\n",
       "    .dataframe thead th {\n",
       "        text-align: right;\n",
       "    }\n",
       "</style>\n",
       "<table border=\"1\" class=\"dataframe\">\n",
       "  <thead>\n",
       "    <tr style=\"text-align: right;\">\n",
       "      <th></th>\n",
       "      <th>trx_code</th>\n",
       "      <th>trx_id</th>\n",
       "      <th>rek_code</th>\n",
       "      <th>rek</th>\n",
       "      <th>creationdate</th>\n",
       "      <th>type</th>\n",
       "      <th>amount</th>\n",
       "      <th>balance</th>\n",
       "    </tr>\n",
       "  </thead>\n",
       "  <tbody>\n",
       "    <tr>\n",
       "      <th>0</th>\n",
       "      <td>50261</td>\n",
       "      <td>100085</td>\n",
       "      <td>1922</td>\n",
       "      <td>2526</td>\n",
       "      <td>2022-02-07 16:41:44+07:00</td>\n",
       "      <td>5</td>\n",
       "      <td>-100000.0</td>\n",
       "      <td>37.14</td>\n",
       "    </tr>\n",
       "    <tr>\n",
       "      <th>1</th>\n",
       "      <td>50260</td>\n",
       "      <td>100001</td>\n",
       "      <td>1922</td>\n",
       "      <td>2526</td>\n",
       "      <td>2022-02-07 16:02:58+07:00</td>\n",
       "      <td>5</td>\n",
       "      <td>-100000.0</td>\n",
       "      <td>100037.14</td>\n",
       "    </tr>\n",
       "    <tr>\n",
       "      <th>2</th>\n",
       "      <td>154447</td>\n",
       "      <td>775749</td>\n",
       "      <td>2346</td>\n",
       "      <td>9437</td>\n",
       "      <td>2022-03-07 08:53:06+07:00</td>\n",
       "      <td>5</td>\n",
       "      <td>-1000000.0</td>\n",
       "      <td>1679999.69</td>\n",
       "    </tr>\n",
       "    <tr>\n",
       "      <th>3</th>\n",
       "      <td>50285</td>\n",
       "      <td>564858</td>\n",
       "      <td>2346</td>\n",
       "      <td>9437</td>\n",
       "      <td>2022-03-03 18:41:16+07:00</td>\n",
       "      <td>1</td>\n",
       "      <td>100000.0</td>\n",
       "      <td>2609999.69</td>\n",
       "    </tr>\n",
       "    <tr>\n",
       "      <th>4</th>\n",
       "      <td>154240</td>\n",
       "      <td>565293</td>\n",
       "      <td>2212</td>\n",
       "      <td>5908</td>\n",
       "      <td>2022-03-03 20:22:31+07:00</td>\n",
       "      <td>1</td>\n",
       "      <td>100000.0</td>\n",
       "      <td>1200526.93</td>\n",
       "    </tr>\n",
       "  </tbody>\n",
       "</table>\n",
       "</div>"
      ],
      "text/plain": [
       "   trx_code  trx_id  rek_code   rek               creationdate  type  \\\n",
       "0     50261  100085      1922  2526  2022-02-07 16:41:44+07:00     5   \n",
       "1     50260  100001      1922  2526  2022-02-07 16:02:58+07:00     5   \n",
       "2    154447  775749      2346  9437  2022-03-07 08:53:06+07:00     5   \n",
       "3     50285  564858      2346  9437  2022-03-03 18:41:16+07:00     1   \n",
       "4    154240  565293      2212  5908  2022-03-03 20:22:31+07:00     1   \n",
       "\n",
       "      amount     balance  \n",
       "0  -100000.0       37.14  \n",
       "1  -100000.0   100037.14  \n",
       "2 -1000000.0  1679999.69  \n",
       "3   100000.0  2609999.69  \n",
       "4   100000.0  1200526.93  "
      ]
     },
     "execution_count": 2,
     "metadata": {},
     "output_type": "execute_result"
    }
   ],
   "source": [
    "dfTrain.head()"
   ]
  },
  {
   "cell_type": "code",
   "execution_count": 3,
   "id": "a5c1f9f0-1d18-4bc7-b5b1-56761b979db9",
   "metadata": {},
   "outputs": [
    {
     "name": "stdout",
     "output_type": "stream",
     "text": [
      "35 35 35\n",
      "<class 'pandas.core.frame.DataFrame'>\n",
      "RangeIndex: 35 entries, 0 to 34\n",
      "Data columns (total 7 columns):\n",
      " #   Column        Non-Null Count  Dtype  \n",
      "---  ------        --------------  -----  \n",
      " 0   trx_code      35 non-null     int64  \n",
      " 1   trx_id        35 non-null     int64  \n",
      " 2   rek_code      35 non-null     int64  \n",
      " 3   rek           35 non-null     int64  \n",
      " 4   creationdate  35 non-null     object \n",
      " 5   type          0 non-null      float64\n",
      " 6   balance       0 non-null      float64\n",
      "dtypes: float64(2), int64(4), object(1)\n",
      "memory usage: 2.0+ KB\n"
     ]
    }
   ],
   "source": [
    "fTest = \"data/dataTransaksi_PeDaS_2024_Test_Peserta.zip\"\n",
    "dfTest = pd.read_csv(fTest, compression='zip')\n",
    "print(len(dfTest.trx_code.unique()), len(dfTest.trx_id.unique()), len(dfTest.rek_code.unique()))\n",
    "dfTest.info()"
   ]
  },
  {
   "cell_type": "code",
   "execution_count": 4,
   "id": "7cb256a1-68a6-4160-b5a2-c2b21242ed79",
   "metadata": {},
   "outputs": [
    {
     "data": {
      "text/html": [
       "<div>\n",
       "<style scoped>\n",
       "    .dataframe tbody tr th:only-of-type {\n",
       "        vertical-align: middle;\n",
       "    }\n",
       "\n",
       "    .dataframe tbody tr th {\n",
       "        vertical-align: top;\n",
       "    }\n",
       "\n",
       "    .dataframe thead th {\n",
       "        text-align: right;\n",
       "    }\n",
       "</style>\n",
       "<table border=\"1\" class=\"dataframe\">\n",
       "  <thead>\n",
       "    <tr style=\"text-align: right;\">\n",
       "      <th></th>\n",
       "      <th>trx_code</th>\n",
       "      <th>trx_id</th>\n",
       "      <th>rek_code</th>\n",
       "      <th>rek</th>\n",
       "      <th>creationdate</th>\n",
       "      <th>type</th>\n",
       "      <th>balance</th>\n",
       "    </tr>\n",
       "  </thead>\n",
       "  <tbody>\n",
       "    <tr>\n",
       "      <th>0</th>\n",
       "      <td>233822</td>\n",
       "      <td>371848437</td>\n",
       "      <td>1922</td>\n",
       "      <td>2526</td>\n",
       "      <td>2024-10-21 20:02:14+07:00</td>\n",
       "      <td>NaN</td>\n",
       "      <td>NaN</td>\n",
       "    </tr>\n",
       "    <tr>\n",
       "      <th>1</th>\n",
       "      <td>281563</td>\n",
       "      <td>370918907</td>\n",
       "      <td>2346</td>\n",
       "      <td>9437</td>\n",
       "      <td>2024-10-17 08:23:41+07:00</td>\n",
       "      <td>NaN</td>\n",
       "      <td>NaN</td>\n",
       "    </tr>\n",
       "    <tr>\n",
       "      <th>2</th>\n",
       "      <td>310541</td>\n",
       "      <td>370287760</td>\n",
       "      <td>2212</td>\n",
       "      <td>5908</td>\n",
       "      <td>2024-10-14 07:44:47+07:00</td>\n",
       "      <td>NaN</td>\n",
       "      <td>NaN</td>\n",
       "    </tr>\n",
       "    <tr>\n",
       "      <th>3</th>\n",
       "      <td>37018</td>\n",
       "      <td>370872355</td>\n",
       "      <td>3799</td>\n",
       "      <td>7665</td>\n",
       "      <td>2024-10-16 23:04:24+07:00</td>\n",
       "      <td>NaN</td>\n",
       "      <td>NaN</td>\n",
       "    </tr>\n",
       "    <tr>\n",
       "      <th>4</th>\n",
       "      <td>142422</td>\n",
       "      <td>362772092</td>\n",
       "      <td>7868</td>\n",
       "      <td>825</td>\n",
       "      <td>2024-10-01 00:13:21+07:00</td>\n",
       "      <td>NaN</td>\n",
       "      <td>NaN</td>\n",
       "    </tr>\n",
       "  </tbody>\n",
       "</table>\n",
       "</div>"
      ],
      "text/plain": [
       "   trx_code     trx_id  rek_code   rek               creationdate  type  \\\n",
       "0    233822  371848437      1922  2526  2024-10-21 20:02:14+07:00   NaN   \n",
       "1    281563  370918907      2346  9437  2024-10-17 08:23:41+07:00   NaN   \n",
       "2    310541  370287760      2212  5908  2024-10-14 07:44:47+07:00   NaN   \n",
       "3     37018  370872355      3799  7665  2024-10-16 23:04:24+07:00   NaN   \n",
       "4    142422  362772092      7868   825  2024-10-01 00:13:21+07:00   NaN   \n",
       "\n",
       "   balance  \n",
       "0      NaN  \n",
       "1      NaN  \n",
       "2      NaN  \n",
       "3      NaN  \n",
       "4      NaN  "
      ]
     },
     "execution_count": 4,
     "metadata": {},
     "output_type": "execute_result"
    }
   ],
   "source": [
    "dfTest.head()"
   ]
  },
  {
   "cell_type": "code",
   "execution_count": null,
   "id": "b7587d9b-6d89-47d3-8afd-951b675dee48",
   "metadata": {},
   "outputs": [],
   "source": [
    "# Your Answer here\n",
    "\n"
   ]
  },
  {
   "cell_type": "code",
   "execution_count": 8,
   "id": "a603ada6-c30b-47bf-9b3f-80fdde7fd3e1",
   "metadata": {},
   "outputs": [
    {
     "data": {
      "text/plain": [
       "'Exported'"
      ]
     },
     "execution_count": 8,
     "metadata": {},
     "output_type": "execute_result"
    }
   ],
   "source": [
    "nama_kelompok = \"..isi dengan nama kelompok anda..\"\n",
    "\n",
    "dfTest.to_csv(fTest.replace(\"Test_Peserta\", nama_kelompok), index=False)\n",
    "\"Exported, silahkan upload jawaban anda ke panitia\""
   ]
  }
 ],
 "metadata": {
  "kernelspec": {
   "display_name": "Python 3 (ipykernel)",
   "language": "python",
   "name": "python3"
  },
  "language_info": {
   "codemirror_mode": {
    "name": "ipython",
    "version": 3
   },
   "file_extension": ".py",
   "mimetype": "text/x-python",
   "name": "python",
   "nbconvert_exporter": "python",
   "pygments_lexer": "ipython3",
   "version": "3.10.14"
  }
 },
 "nbformat": 4,
 "nbformat_minor": 5
}
