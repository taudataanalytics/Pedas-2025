{
 "cells": [
  {
   "cell_type": "markdown",
   "id": "d4ff0d50-25cc-489c-ba41-5b2f5042324b",
   "metadata": {},
   "source": [
    "# <center><font color=\"red\">Pesta Data Nasional (PeDaS) 2025 - Day 01</font> <br> <font color=\"blue\">Pendahuluan (Univariate) Time Series Forecasting</font></center>\n",
    "<center><img alt=\"\" src=\"images/head-pedas-2025.jpg\"/></center> "
   ]
  },
  {
   "cell_type": "markdown",
   "id": "80c977b9-2fef-48f1-830c-b25f67376ed0",
   "metadata": {},
   "source": [
    "# Pendahuluan\n",
    "\n",
    "Apa yang akan Anda lakukan jika Anda mengetahui seperti apa masa depan itu? Bagi sebagian orang, jawabannya mungkin \" ***membeli bitcoin di tahun 2017***.\" Bagi para pengecer, jawabannya mungkin \"***menimbun stok kertas toilet atau chip silikon di tahun 2019***.\" Apa pun jawaban Anda, kita dapat sepakat bahwa memiliki informasi tentang masa depan akan sangat menguntungkan.\n",
    "\n",
    "Kita dapat memodelkan perilaku dari deret waktu dengan cukup baik sehingga memungkinkan untuk membuat prediksi masa depan yang cukup akurat.\n",
    "\n",
    "## Deret Waktu\n",
    "**Deret waktu** adalah rangkaian titik data yang bergantung pada waktu. Artinya, setiap titik data memiliki cap waktu yang melekat padanya. Idealnya, titik-titik data ini diukur pada interval yang konstan (misalnya, setiap hari) dan dalam urutan kronologis (misalnya, Senin, Selasa, Rabu, dan seterusnya).\n",
    "\n",
    "<center><img alt=\"\" src=\"images/contoh-timeseries.png\"/></center>"
   ]
  },
  {
   "cell_type": "code",
   "execution_count": null,
   "id": "efa29ad1-c8b0-4875-927b-638a4184df74",
   "metadata": {},
   "outputs": [],
   "source": []
  },
  {
   "cell_type": "code",
   "execution_count": null,
   "id": "f3105341-a7e6-4f9f-b245-7817fcefc010",
   "metadata": {},
   "outputs": [],
   "source": []
  },
  {
   "cell_type": "code",
   "execution_count": null,
   "id": "bb1daee8-2614-4f5f-8e9b-dae78bf36b96",
   "metadata": {},
   "outputs": [],
   "source": []
  },
  {
   "cell_type": "code",
   "execution_count": null,
   "id": "002671c2-a536-462c-bc11-9d3881a2b929",
   "metadata": {},
   "outputs": [],
   "source": []
  },
  {
   "cell_type": "markdown",
   "id": "ccd7e959-ec65-4a4e-b436-8c656d831b89",
   "metadata": {},
   "source": [
    "<center><img alt=\"\" src=\"images/ts-mindmap.jpg\"/></center>"
   ]
  },
  {
   "cell_type": "code",
   "execution_count": null,
   "id": "9bab426d-3817-45cc-9187-d7e8ae218620",
   "metadata": {},
   "outputs": [],
   "source": []
  },
  {
   "cell_type": "code",
   "execution_count": 1,
   "id": "c96870b7-cfb2-467e-9004-4c9da8e50f54",
   "metadata": {},
   "outputs": [
    {
     "name": "stdout",
     "output_type": "stream",
     "text": [
      "Running the code locally, please make sure all the python module versions agree with colab environment and all data/assets downloaded\n"
     ]
    }
   ],
   "source": [
    "import warnings; warnings.simplefilter('ignore')\n",
    "try:\n",
    "    import google.colab\n",
    "    IN_COLAB = True\n",
    "    !mkdir data models images\n",
    "    !pip install darts ipywidgets utils --q\n",
    "except:\n",
    "    IN_COLAB = False\n",
    "    print(\"Running the code locally, please make sure all the python module versions agree with colab environment and all data/assets downloaded\")"
   ]
  }
 ],
 "metadata": {
  "kernelspec": {
   "display_name": "Python 3 (ipykernel)",
   "language": "python",
   "name": "python3"
  },
  "language_info": {
   "codemirror_mode": {
    "name": "ipython",
    "version": 3
   },
   "file_extension": ".py",
   "mimetype": "text/x-python",
   "name": "python",
   "nbconvert_exporter": "python",
   "pygments_lexer": "ipython3",
   "version": "3.12.11"
  }
 },
 "nbformat": 4,
 "nbformat_minor": 5
}
