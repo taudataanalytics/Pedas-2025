{
 "cells": [
  {
   "cell_type": "markdown",
   "id": "d4ff0d50-25cc-489c-ba41-5b2f5042324b",
   "metadata": {},
   "source": [
    "# <center><font color=\"red\">Pesta Data Nasional (PeDaS) 2025 - Day 03</font> <br> <font color=\"blue\">Multivariate & Multiple Time Series Forecasting + Data Babak Penyisihan PeDaS 2025</font></center>\n",
    "<center><img alt=\"\" src=\"images/logo-pedas.jpg\" style=\"height: 150px;\"/></center> \n",
    "<center><img alt=\"\" src=\"images/head-pedas-2025.jpg\"/></center> \n",
    "\n",
    "### <center><font color=\"green\">Copyright ~ Taufik Sutanto 2025</font></center>"
   ]
  },
  {
   "cell_type": "markdown",
   "id": "3da20b58-2a88-4336-93b0-330e61856f6b",
   "metadata": {},
   "source": [
    "# <center><font color=\"blue\">Outline Workshop PeDaS 2025 Hari Ketiga</font></center>\n",
    "\n",
    "* **Pendahuluan** Berbagai tipe Series di Darts\n",
    "* **Persiapan Data** Multivariate dan Multiple Time Series di Darts\n",
    "* **Multivariate** Time Series **Models**\n",
    "* **Optimasi** Model multivariate TS\n",
    "* **Multiple** TimeSeries **Models**\n",
    "* **Tanya-Jawab** Materi\n",
    "* **Sosialisasi Kick-Off Babak Penyisihan PeDaS 2025 + Distribusi Dataset**\n",
    "* **Tanya-Jawab Pelaksanaan Babak Penyisihan**"
   ]
  },
  {
   "cell_type": "code",
   "execution_count": 1,
   "id": "bd26171b-54d2-4c90-9f04-cbd18f2a4ca9",
   "metadata": {},
   "outputs": [
    {
     "name": "stdout",
     "output_type": "stream",
     "text": [
      "Running the code locally, please make sure all the python module versions agree with colab environment and all data/assets downloaded\n"
     ]
    }
   ],
   "source": [
    "import warnings; warnings.simplefilter('ignore')\n",
    "try:\n",
    "    import google.colab\n",
    "    IN_COLAB = True\n",
    "    !mkdir data models images\n",
    "    !wget -P data/ https://raw.githubusercontent.com/taudataanalytics/Pedas-2025/master/data/day.csv\n",
    "    !wget -P data/ https://raw.githubusercontent.com/taudataanalytics/Pedas-2025/master/data/Tech_stocks.csv\n",
    "    !pip install darts nolds tsfresh seaborn prophet plotly ipywidgets --q\n",
    "except:\n",
    "    IN_COLAB = False\n",
    "    print(\"Running the code locally, please make sure all the python module versions agree with colab environment and all data/assets downloaded\")"
   ]
  },
  {
   "cell_type": "code",
   "execution_count": 2,
   "id": "ac6b6f34-6af6-4dc0-992d-18a063b29521",
   "metadata": {},
   "outputs": [
    {
     "data": {
      "text/plain": [
       "'Done'"
      ]
     },
     "execution_count": 2,
     "metadata": {},
     "output_type": "execute_result"
    }
   ],
   "source": [
    "import darts, numpy as np, pandas as pd, seaborn as sns\n",
    "import matplotlib, matplotlib.pyplot as plt\n",
    "from darts.metrics import smape, mape\n",
    "\n",
    "seed = 42\n",
    "np.random.seed(seed)\n",
    "\"Done\""
   ]
  },
  {
   "cell_type": "markdown",
   "id": "775a671e-48e7-4c40-8425-190d8f72aa41",
   "metadata": {},
   "source": [
    "# <center>Univariate VS Multivariate VS Multiple Time Series</center>\n",
    "\n",
    "* https://unit8co.github.io/darts/userguide/timeseries.html#multivariate-time-series-vs-multiple-time-series\n",
    "\n",
    "## Beberapa Konsep Deret di Time Series (Darts)\n",
    "\n",
    "* **Deret Waktu Univariat (Univariate Time Series)**: Ini adalah bentuk deret waktu yang paling sederhana, di mana hanya ada satu variabel yang diamati dari waktu ke waktu. Sebagai contoh, data suhu harian di satu lokasi.\n",
    "* **Deret Waktu Kovariat (Covariate Time Series)**: Ini adalah deret waktu tambahan yang dapat membantu dalam peramalan deret waktu target. Ada dua jenis kovariat:\n",
    "    * Kovariat Masa Lalu (Past Covariates): Nilainya diketahui pada saat prediksi.\n",
    "    * Kovariat Masa Depan (Future Covariates): Nilainya sudah diketahui di masa depan untuk rentang waktu peramalan, seperti hari libur atau ramalan cuaca.\n",
    "\n",
    "<center><img alt=\"\" src=\"images/kovariat.jpg\" style=\"height: 250px;\"/></center> "
   ]
  },
  {
   "cell_type": "markdown",
   "id": "7646e4bc-21bc-453e-ac83-5b1053ea505c",
   "metadata": {},
   "source": [
    "# <center><font color=\"blue\">Penjelasan Darts - Multivariate Timeseries</font></center>\n",
    "\n",
    "## **Multivariate series** adalah deret waktu yang punya **lebih dari satu dimensi** (artinya, ada banyak nilai pada setiap titik waktu).  \n",
    "\n",
    "Kadang, dimensi-dimensi ini disebut **komponen**.  \n",
    "Satu objek `TimeSeries` bisa:\n",
    "- **Univariate** → kalau hanya punya satu komponen.  \n",
    "- **Multivariate** → kalau punya beberapa komponen.\n",
    "\n",
    "Pada multivariate series, semua komponen **berbagi sumbu waktu yang sama**, artinya semua nilai punya timestamp yang sama.\n",
    "\n",
    "\n",
    "Beberapa model di **Darts** (dan hampir semua model machine learning) bisa bekerja dengan multivariate series.  \n",
    "Itu berarti:\n",
    "- Model bisa menerima multivariate series sebagai input (baik sebagai target maupun sebagai covariate).  \n",
    "- Hasil ramalan (forecast) yang keluar akan punya jumlah dimensi yang sama dengan targetnya.\n",
    "\n",
    "<center><img alt=\"\" src=\"images/multivariate.png\" style=\"height: 400px;\"/></center> "
   ]
  },
  {
   "cell_type": "markdown",
   "id": "6a5f2f61-6bf2-4c5f-bbc9-6931eb6ef710",
   "metadata": {},
   "source": [
    "**Deret Waktu Multivariat (Multivariate Time Series)**:\n",
    "\n",
    "* Deret waktu ini melibatkan beberapa variabel yang diukur secara bersamaan dari waktu ke waktu. Semua variabel ini berbagi sumbu waktu yang sama. Contohnya adalah data tekanan darah dan detak jantung seorang pasien yang diukur setiap jam. Dalam kasus ini, ada dua dimensi (tekanan darah dan detak jantung) yang diukur pada setiap langkah waktu. Ini disimpan dalam satu objek `TimeSeries` dengan dua kolom.\n",
    " * Sebuah **TimeSeries** yang memiliki *multiple components* (dimensi) pada setiap titik waktu.\n",
    " * Cocok ketika variabel-variabel dianggap *berkorelasi pada setiap waktu*, dan Anda ingin model mempelajari hubungan mereka secara bersamaan.  \n",
    " * Model Darts yang mendukung multivariate dapat menerima input dan menghasilkan forecast dalam bentuk vektor.  "
   ]
  },
  {
   "cell_type": "markdown",
   "id": "5d2e509a-8440-4436-9ad4-e25dc8bdafc7",
   "metadata": {},
   "source": [
    "# <center><font color=\"blue\">Penjelasan Darts - Multiple Timeseries</font></center>\n",
    "\n",
    "Selain itu, ada juga model yang bisa bekerja dengan **multiple time series** (lebih dari satu objek `TimeSeries` sekaligus).  \n",
    "Artinya:\n",
    "- Model bisa dilatih dengan banyak `TimeSeries`,  \n",
    "- dan bisa dipakai untuk meramal banyak `TimeSeries` sekaligus.  \n",
    "\n",
    "Kondisi ini sering disebut juga dengan **panel data**.  \n",
    "Dalam kasus ini:\n",
    "- Setiap `TimeSeries` **tidak wajib** punya index waktu yang sama (misalnya ada yang mulai tahun 1990, ada yang mulai tahun 2000).  \n",
    "- Bahkan frekuensi datanya juga tidak harus sama.  \n",
    "\n",
    "Model yang bisa menangani multiple series biasanya mengharapkan input berupa **sekumpulan `TimeSeries`**, misalnya dalam bentuk **list of TimeSeries** di Python.\n",
    "\n",
    "<center><img alt=\"\" src=\"images/multiple-ts.png\" style=\"height: 400px;\"/></center> "
   ]
  },
  {
   "cell_type": "markdown",
   "id": "ee055e5c-01ce-42a2-86a1-aed6a836f0cf",
   "metadata": {},
   "source": [
    "**Deret Waktu Jamak (Multiple Time Series)**:\n",
    "\n",
    " * Ini merujuk pada beberapa deret waktu yang terpisah, yang dapat berupa univariat atau multivariat. Deret waktu ini tidak harus memiliki rentang waktu yang sama. Contohnya adalah data penjualan untuk beberapa produk yang berbeda, di mana setiap produk memiliki deret waktu penjualannya sendiri.\n",
    " * Contoh: catatan tekanan darah dan denyut jantung untuk beberapa pasien sebagai seri terpisah.\n",
    " * Masing-masing time series bisa memiliki indeks waktu dan frekuensi yang berbeda.  \n",
    " * Gunakan ketika Anda memiliki banyak entitas (user, lokasi, produk, dll.), dan ingin memanfaatkan pola umum melalui *global models*. "
   ]
  },
  {
   "cell_type": "markdown",
   "id": "4c3ba164-3c91-4d1e-baa0-1e885d7d4c17",
   "metadata": {},
   "source": [
    "<center><img alt=\"\" src=\"images/series-in-darts.jpg\" style=\"height: 400px;\"/></center> "
   ]
  },
  {
   "cell_type": "markdown",
   "id": "5637cc0d-49d9-4883-887b-01089464a1a8",
   "metadata": {},
   "source": [
    "### Skenario Penggunaan:\n",
    "\n",
    "| Tipe Data                | Representasi            | Cocok untuk...                                      |\n",
    "|--------------------------|--------------------------|-----------------------------------------------------|\n",
    "| **Multivariate Series**  | Satu `TimeSeries` multikomponen | Variabel berkorelasi dalam satu entitas             |\n",
    "| **Multiple Series**      | Banyak `TimeSeries` (list)     | Banyak objek/peristiwa independen                    |\n",
    "\n",
    "- Gunakan **multivariate series** bila variabel yang saling terkait berada dalam satu entitas.\n",
    "- Gunakan **multiple series** bila Anda memiliki banyak entitas, dan ingin melatih model yang belajar dari berbagai seri secara global.\n",
    "\n",
    "Menggunakan **multivariate series** membantu model menangkap hubungan antar komponen secara bersamaan, sedangkan **multiple series** memberi model banyak contoh observasi. Pilihan mana yang tepat sangat bergantung pada masalah, dan kadang hanya bisa ditentukan lewat eksperimen.  \n",
    "\n",
    "* Jika ada beberapa komponen yang saling berkorelasi dan berubah bersama sepanjang waktu (misalnya koordinat benda bergerak atau beberapa pengukuran dari satu objek), lebih alami digabung dalam **satu multivariate series**.  \n",
    "* Sebaliknya, jika datanya berasal dari beberapa eksperimen atau pengamatan berbeda, sebaiknya dibuat sebagai **multiple series**.  \n",
    "Selain itu, bila rentang waktunya tidak sama, sebaiknya juga dipisahkan sebagai series yang berbeda."
   ]
  },
  {
   "cell_type": "markdown",
   "id": "1bb2c5e6-44e5-43c1-8977-9a91a1359112",
   "metadata": {},
   "source": [
    "# Contoh implementasi Multivariate Time Series di Darts\n",
    "\n",
    "* https://unit8co.github.io/darts/userguide/forecasting_overview.html#support-for-multivariate-series\n",
    "* Data yang akan kita gunakan https://archive.ics.uci.edu/dataset/275/bike%2Bsharing%2Bdataset\n",
    "\n",
    "## Permasalahan Multivariate Time Series: Bike Sharing Dataset (day.csv)\n",
    "**Deskripsi Data**  \n",
    "Dataset *Bike Sharing* (day.csv) berisi data jumlah peminjaman sepeda harian di Washington D.C. sepanjang 2011–2012.  \n",
    "Selain jumlah sepeda yang dipinjam (`cnt`), dataset juga menyertakan beberapa variabel yang memengaruhi perilaku peminjaman:\n",
    "\n",
    "- `temp` : Suhu normalisasi (0–1)\n",
    "- `hum` : Kelembaban normalisasi (0–1)\n",
    "- `windspeed` : Kecepatan angin normalisasi (0–1)\n",
    "- `cnt` : Jumlah sepeda dipinjam (total)\n",
    "\n",
    "**Mengapa Termasuk *Multivariate Time Series***  \n",
    "- Variabel target `cnt` (jumlah peminjaman) **bervariasi terhadap waktu (harian)**.  \n",
    "- Nilai `cnt` dipengaruhi secara bersamaan oleh **beberapa komponen (suhu, kelembaban, kecepatan angin)**.  \n",
    "- Ketiga variabel ini saling berhubungan dan bersama-sama membentuk dinamika data seiring waktu.\n",
    "\n",
    "**Contoh Permasalahan**  \n",
    "> Bagaimana memprediksi jumlah sepeda yang akan dipinjam (`cnt`) di hari berikutnya dengan mempertimbangkan suhu, kelembaban, dan kecepatan angin pada hari tersebut?\n",
    "\n",
    "**Intuisi Sederhana untuk Pemula**  \n",
    "- Saat suhu nyaman → peminjaman cenderung naik.  \n",
    "- Saat kelembaban tinggi atau angin kencang → peminjaman cenderung turun.  \n",
    "- Kombinasi faktor cuaca inilah yang membuat data perlu dianalisis sebagai *multivariate time series*, bukan sekadar univariate.\n",
    "\n",
    "<center><img alt=\"\" src=\"images/bike-sharing.jpg\" style=\"height: 250px;\"/></center> "
   ]
  },
  {
   "cell_type": "markdown",
   "id": "7960baf5-97c4-473d-9185-51a59ed9eaf1",
   "metadata": {},
   "source": [
    "# 1. Import Module Python yang dibutuhkan"
   ]
  },
  {
   "cell_type": "code",
   "execution_count": 3,
   "id": "68c1d5f8-46c3-4a12-8d21-5c9dacb71b81",
   "metadata": {},
   "outputs": [
    {
     "data": {
      "text/plain": [
       "'Done'"
      ]
     },
     "execution_count": 3,
     "metadata": {},
     "output_type": "execute_result"
    }
   ],
   "source": [
    "import pandas as pd\n",
    "from darts import TimeSeries\n",
    "from darts.models import RNNModel\n",
    "from darts.dataprocessing.transformers import Scaler\n",
    "from darts.metrics import mape, smape\n",
    "from sklearn.model_selection import train_test_split\n",
    "import matplotlib.pyplot as plt\n",
    "\"Done\""
   ]
  },
  {
   "cell_type": "markdown",
   "id": "1aabe8a2-05ab-405b-acd3-50f3fe4babf3",
   "metadata": {},
   "source": [
    "## Penjelasan:\n",
    "* pandas → untuk membaca file csv.\n",
    "* darts.TimeSeries → struktur utama untuk data time series di Darts.\n",
    "* RNNModel → digunakan untuk membuat LSTM/GRU/RNN di Darts.\n",
    "* Scaler → untuk normalisasi data (penting pada LSTM).\n",
    "* mape → metrik error (Mean Absolute Percentage Error). Bisa diganti sMape.\n",
    "* train_test_split → membagi data train dan test.\n",
    "* matplotlib → untuk visualisasi."
   ]
  },
  {
   "cell_type": "code",
   "execution_count": 4,
   "id": "e0d8c488-8ef3-4cd4-b82a-19b4ac457b30",
   "metadata": {},
   "outputs": [
    {
     "data": {
      "text/html": [
       "<div>\n",
       "<style scoped>\n",
       "    .dataframe tbody tr th:only-of-type {\n",
       "        vertical-align: middle;\n",
       "    }\n",
       "\n",
       "    .dataframe tbody tr th {\n",
       "        vertical-align: top;\n",
       "    }\n",
       "\n",
       "    .dataframe thead th {\n",
       "        text-align: right;\n",
       "    }\n",
       "</style>\n",
       "<table border=\"1\" class=\"dataframe\">\n",
       "  <thead>\n",
       "    <tr style=\"text-align: right;\">\n",
       "      <th></th>\n",
       "      <th>instant</th>\n",
       "      <th>dteday</th>\n",
       "      <th>season</th>\n",
       "      <th>yr</th>\n",
       "      <th>mnth</th>\n",
       "      <th>holiday</th>\n",
       "      <th>weekday</th>\n",
       "      <th>workingday</th>\n",
       "      <th>weathersit</th>\n",
       "      <th>temp</th>\n",
       "      <th>atemp</th>\n",
       "      <th>hum</th>\n",
       "      <th>windspeed</th>\n",
       "      <th>casual</th>\n",
       "      <th>registered</th>\n",
       "      <th>cnt</th>\n",
       "    </tr>\n",
       "  </thead>\n",
       "  <tbody>\n",
       "    <tr>\n",
       "      <th>0</th>\n",
       "      <td>1</td>\n",
       "      <td>2011-01-01</td>\n",
       "      <td>1</td>\n",
       "      <td>0</td>\n",
       "      <td>1</td>\n",
       "      <td>0</td>\n",
       "      <td>6</td>\n",
       "      <td>0</td>\n",
       "      <td>2</td>\n",
       "      <td>0.344167</td>\n",
       "      <td>0.363625</td>\n",
       "      <td>0.805833</td>\n",
       "      <td>0.160446</td>\n",
       "      <td>331</td>\n",
       "      <td>654</td>\n",
       "      <td>985</td>\n",
       "    </tr>\n",
       "    <tr>\n",
       "      <th>1</th>\n",
       "      <td>2</td>\n",
       "      <td>2011-01-02</td>\n",
       "      <td>1</td>\n",
       "      <td>0</td>\n",
       "      <td>1</td>\n",
       "      <td>0</td>\n",
       "      <td>0</td>\n",
       "      <td>0</td>\n",
       "      <td>2</td>\n",
       "      <td>0.363478</td>\n",
       "      <td>0.353739</td>\n",
       "      <td>0.696087</td>\n",
       "      <td>0.248539</td>\n",
       "      <td>131</td>\n",
       "      <td>670</td>\n",
       "      <td>801</td>\n",
       "    </tr>\n",
       "    <tr>\n",
       "      <th>2</th>\n",
       "      <td>3</td>\n",
       "      <td>2011-01-03</td>\n",
       "      <td>1</td>\n",
       "      <td>0</td>\n",
       "      <td>1</td>\n",
       "      <td>0</td>\n",
       "      <td>1</td>\n",
       "      <td>1</td>\n",
       "      <td>1</td>\n",
       "      <td>0.196364</td>\n",
       "      <td>0.189405</td>\n",
       "      <td>0.437273</td>\n",
       "      <td>0.248309</td>\n",
       "      <td>120</td>\n",
       "      <td>1229</td>\n",
       "      <td>1349</td>\n",
       "    </tr>\n",
       "    <tr>\n",
       "      <th>3</th>\n",
       "      <td>4</td>\n",
       "      <td>2011-01-04</td>\n",
       "      <td>1</td>\n",
       "      <td>0</td>\n",
       "      <td>1</td>\n",
       "      <td>0</td>\n",
       "      <td>2</td>\n",
       "      <td>1</td>\n",
       "      <td>1</td>\n",
       "      <td>0.200000</td>\n",
       "      <td>0.212122</td>\n",
       "      <td>0.590435</td>\n",
       "      <td>0.160296</td>\n",
       "      <td>108</td>\n",
       "      <td>1454</td>\n",
       "      <td>1562</td>\n",
       "    </tr>\n",
       "    <tr>\n",
       "      <th>4</th>\n",
       "      <td>5</td>\n",
       "      <td>2011-01-05</td>\n",
       "      <td>1</td>\n",
       "      <td>0</td>\n",
       "      <td>1</td>\n",
       "      <td>0</td>\n",
       "      <td>3</td>\n",
       "      <td>1</td>\n",
       "      <td>1</td>\n",
       "      <td>0.226957</td>\n",
       "      <td>0.229270</td>\n",
       "      <td>0.436957</td>\n",
       "      <td>0.186900</td>\n",
       "      <td>82</td>\n",
       "      <td>1518</td>\n",
       "      <td>1600</td>\n",
       "    </tr>\n",
       "    <tr>\n",
       "      <th>5</th>\n",
       "      <td>6</td>\n",
       "      <td>2011-01-06</td>\n",
       "      <td>1</td>\n",
       "      <td>0</td>\n",
       "      <td>1</td>\n",
       "      <td>0</td>\n",
       "      <td>4</td>\n",
       "      <td>1</td>\n",
       "      <td>1</td>\n",
       "      <td>0.204348</td>\n",
       "      <td>0.233209</td>\n",
       "      <td>0.518261</td>\n",
       "      <td>0.089565</td>\n",
       "      <td>88</td>\n",
       "      <td>1518</td>\n",
       "      <td>1606</td>\n",
       "    </tr>\n",
       "    <tr>\n",
       "      <th>6</th>\n",
       "      <td>7</td>\n",
       "      <td>2011-01-07</td>\n",
       "      <td>1</td>\n",
       "      <td>0</td>\n",
       "      <td>1</td>\n",
       "      <td>0</td>\n",
       "      <td>5</td>\n",
       "      <td>1</td>\n",
       "      <td>2</td>\n",
       "      <td>0.196522</td>\n",
       "      <td>0.208839</td>\n",
       "      <td>0.498696</td>\n",
       "      <td>0.168726</td>\n",
       "      <td>148</td>\n",
       "      <td>1362</td>\n",
       "      <td>1510</td>\n",
       "    </tr>\n",
       "    <tr>\n",
       "      <th>7</th>\n",
       "      <td>8</td>\n",
       "      <td>2011-01-08</td>\n",
       "      <td>1</td>\n",
       "      <td>0</td>\n",
       "      <td>1</td>\n",
       "      <td>0</td>\n",
       "      <td>6</td>\n",
       "      <td>0</td>\n",
       "      <td>2</td>\n",
       "      <td>0.165000</td>\n",
       "      <td>0.162254</td>\n",
       "      <td>0.535833</td>\n",
       "      <td>0.266804</td>\n",
       "      <td>68</td>\n",
       "      <td>891</td>\n",
       "      <td>959</td>\n",
       "    </tr>\n",
       "    <tr>\n",
       "      <th>8</th>\n",
       "      <td>9</td>\n",
       "      <td>2011-01-09</td>\n",
       "      <td>1</td>\n",
       "      <td>0</td>\n",
       "      <td>1</td>\n",
       "      <td>0</td>\n",
       "      <td>0</td>\n",
       "      <td>0</td>\n",
       "      <td>1</td>\n",
       "      <td>0.138333</td>\n",
       "      <td>0.116175</td>\n",
       "      <td>0.434167</td>\n",
       "      <td>0.361950</td>\n",
       "      <td>54</td>\n",
       "      <td>768</td>\n",
       "      <td>822</td>\n",
       "    </tr>\n",
       "    <tr>\n",
       "      <th>9</th>\n",
       "      <td>10</td>\n",
       "      <td>2011-01-10</td>\n",
       "      <td>1</td>\n",
       "      <td>0</td>\n",
       "      <td>1</td>\n",
       "      <td>0</td>\n",
       "      <td>1</td>\n",
       "      <td>1</td>\n",
       "      <td>1</td>\n",
       "      <td>0.150833</td>\n",
       "      <td>0.150888</td>\n",
       "      <td>0.482917</td>\n",
       "      <td>0.223267</td>\n",
       "      <td>41</td>\n",
       "      <td>1280</td>\n",
       "      <td>1321</td>\n",
       "    </tr>\n",
       "    <tr>\n",
       "      <th>10</th>\n",
       "      <td>11</td>\n",
       "      <td>2011-01-11</td>\n",
       "      <td>1</td>\n",
       "      <td>0</td>\n",
       "      <td>1</td>\n",
       "      <td>0</td>\n",
       "      <td>2</td>\n",
       "      <td>1</td>\n",
       "      <td>2</td>\n",
       "      <td>0.169091</td>\n",
       "      <td>0.191464</td>\n",
       "      <td>0.686364</td>\n",
       "      <td>0.122132</td>\n",
       "      <td>43</td>\n",
       "      <td>1220</td>\n",
       "      <td>1263</td>\n",
       "    </tr>\n",
       "    <tr>\n",
       "      <th>11</th>\n",
       "      <td>12</td>\n",
       "      <td>2011-01-12</td>\n",
       "      <td>1</td>\n",
       "      <td>0</td>\n",
       "      <td>1</td>\n",
       "      <td>0</td>\n",
       "      <td>3</td>\n",
       "      <td>1</td>\n",
       "      <td>1</td>\n",
       "      <td>0.172727</td>\n",
       "      <td>0.160473</td>\n",
       "      <td>0.599545</td>\n",
       "      <td>0.304627</td>\n",
       "      <td>25</td>\n",
       "      <td>1137</td>\n",
       "      <td>1162</td>\n",
       "    </tr>\n",
       "    <tr>\n",
       "      <th>12</th>\n",
       "      <td>13</td>\n",
       "      <td>2011-01-13</td>\n",
       "      <td>1</td>\n",
       "      <td>0</td>\n",
       "      <td>1</td>\n",
       "      <td>0</td>\n",
       "      <td>4</td>\n",
       "      <td>1</td>\n",
       "      <td>1</td>\n",
       "      <td>0.165000</td>\n",
       "      <td>0.150883</td>\n",
       "      <td>0.470417</td>\n",
       "      <td>0.301000</td>\n",
       "      <td>38</td>\n",
       "      <td>1368</td>\n",
       "      <td>1406</td>\n",
       "    </tr>\n",
       "    <tr>\n",
       "      <th>13</th>\n",
       "      <td>14</td>\n",
       "      <td>2011-01-14</td>\n",
       "      <td>1</td>\n",
       "      <td>0</td>\n",
       "      <td>1</td>\n",
       "      <td>0</td>\n",
       "      <td>5</td>\n",
       "      <td>1</td>\n",
       "      <td>1</td>\n",
       "      <td>0.160870</td>\n",
       "      <td>0.188413</td>\n",
       "      <td>0.537826</td>\n",
       "      <td>0.126548</td>\n",
       "      <td>54</td>\n",
       "      <td>1367</td>\n",
       "      <td>1421</td>\n",
       "    </tr>\n",
       "    <tr>\n",
       "      <th>14</th>\n",
       "      <td>15</td>\n",
       "      <td>2011-01-15</td>\n",
       "      <td>1</td>\n",
       "      <td>0</td>\n",
       "      <td>1</td>\n",
       "      <td>0</td>\n",
       "      <td>6</td>\n",
       "      <td>0</td>\n",
       "      <td>2</td>\n",
       "      <td>0.233333</td>\n",
       "      <td>0.248112</td>\n",
       "      <td>0.498750</td>\n",
       "      <td>0.157963</td>\n",
       "      <td>222</td>\n",
       "      <td>1026</td>\n",
       "      <td>1248</td>\n",
       "    </tr>\n",
       "  </tbody>\n",
       "</table>\n",
       "</div>"
      ],
      "text/plain": [
       "    instant      dteday  season  yr  mnth  holiday  weekday  workingday  \\\n",
       "0         1  2011-01-01       1   0     1        0        6           0   \n",
       "1         2  2011-01-02       1   0     1        0        0           0   \n",
       "2         3  2011-01-03       1   0     1        0        1           1   \n",
       "3         4  2011-01-04       1   0     1        0        2           1   \n",
       "4         5  2011-01-05       1   0     1        0        3           1   \n",
       "5         6  2011-01-06       1   0     1        0        4           1   \n",
       "6         7  2011-01-07       1   0     1        0        5           1   \n",
       "7         8  2011-01-08       1   0     1        0        6           0   \n",
       "8         9  2011-01-09       1   0     1        0        0           0   \n",
       "9        10  2011-01-10       1   0     1        0        1           1   \n",
       "10       11  2011-01-11       1   0     1        0        2           1   \n",
       "11       12  2011-01-12       1   0     1        0        3           1   \n",
       "12       13  2011-01-13       1   0     1        0        4           1   \n",
       "13       14  2011-01-14       1   0     1        0        5           1   \n",
       "14       15  2011-01-15       1   0     1        0        6           0   \n",
       "\n",
       "    weathersit      temp     atemp       hum  windspeed  casual  registered  \\\n",
       "0            2  0.344167  0.363625  0.805833   0.160446     331         654   \n",
       "1            2  0.363478  0.353739  0.696087   0.248539     131         670   \n",
       "2            1  0.196364  0.189405  0.437273   0.248309     120        1229   \n",
       "3            1  0.200000  0.212122  0.590435   0.160296     108        1454   \n",
       "4            1  0.226957  0.229270  0.436957   0.186900      82        1518   \n",
       "5            1  0.204348  0.233209  0.518261   0.089565      88        1518   \n",
       "6            2  0.196522  0.208839  0.498696   0.168726     148        1362   \n",
       "7            2  0.165000  0.162254  0.535833   0.266804      68         891   \n",
       "8            1  0.138333  0.116175  0.434167   0.361950      54         768   \n",
       "9            1  0.150833  0.150888  0.482917   0.223267      41        1280   \n",
       "10           2  0.169091  0.191464  0.686364   0.122132      43        1220   \n",
       "11           1  0.172727  0.160473  0.599545   0.304627      25        1137   \n",
       "12           1  0.165000  0.150883  0.470417   0.301000      38        1368   \n",
       "13           1  0.160870  0.188413  0.537826   0.126548      54        1367   \n",
       "14           2  0.233333  0.248112  0.498750   0.157963     222        1026   \n",
       "\n",
       "     cnt  \n",
       "0    985  \n",
       "1    801  \n",
       "2   1349  \n",
       "3   1562  \n",
       "4   1600  \n",
       "5   1606  \n",
       "6   1510  \n",
       "7    959  \n",
       "8    822  \n",
       "9   1321  \n",
       "10  1263  \n",
       "11  1162  \n",
       "12  1406  \n",
       "13  1421  \n",
       "14  1248  "
      ]
     },
     "execution_count": 4,
     "metadata": {},
     "output_type": "execute_result"
    }
   ],
   "source": [
    "# 2. Load dataset Bike Sharing\n",
    "df = pd.read_csv(\"data/day.csv\")\n",
    "# Tampilkan beberapa baris awal\n",
    "df.head(15)"
   ]
  },
  {
   "cell_type": "markdown",
   "id": "1735b4d5-6a60-4d7f-9288-5dfbf7b6f280",
   "metadata": {},
   "source": [
    "## Data utama yang kita gunakan:\n",
    "* dteday → tanggal\n",
    "* temp, hum, windspeed → variabel input (multivariate features)\n",
    "* cnt → target (jumlah sepeda yang dipinjam)"
   ]
  },
  {
   "cell_type": "code",
   "execution_count": 5,
   "id": "ad1d5417-8aad-4c79-aebc-3a7af5d53782",
   "metadata": {},
   "outputs": [],
   "source": [
    "# 3. Pilih kolom penting\n",
    "df = df[['dteday', 'temp', 'hum', 'windspeed', 'cnt']]\n",
    "\n",
    "# Konversi ke format datetime\n",
    "df['dteday'] = pd.to_datetime(df['dteday'])\n",
    "\n",
    "# Set sebagai time series Darts\n",
    "series = TimeSeries.from_dataframe(df, time_col='dteday',value_cols=['temp', 'hum', 'windspeed', 'cnt'])"
   ]
  },
  {
   "cell_type": "markdown",
   "id": "0e620171-61f0-4e1b-aab7-04d993929ad4",
   "metadata": {},
   "source": [
    "## Data diubah menjadi TimeSeries dengan 4 variabel (3 input + 1 target)."
   ]
  },
  {
   "cell_type": "code",
   "execution_count": 6,
   "id": "f6f8222a-4ea1-480a-a912-02ced5bf52aa",
   "metadata": {},
   "outputs": [
    {
     "data": {
      "text/html": [
       "<div><svg style=\"position: absolute; width: 0; height: 0; overflow: hidden\">\n",
       "<defs>\n",
       "<symbol id=\"icon-database\" viewBox=\"0 0 32 32\">\n",
       "<path d=\"M16 0c-8.837 0-16 2.239-16 5v4c0 2.761 7.163 5 16 5s16-2.239 16-5v-4c0-2.761-7.163-5-16-5z\"></path>\n",
       "<path d=\"M16 17c-8.837 0-16-2.239-16-5v6c0 2.761 7.163 5 16 5s16-2.239 16-5v-6c0 2.761-7.163 5-16 5z\"></path>\n",
       "<path d=\"M16 26c-8.837 0-16-2.239-16-5v6c0 2.761 7.163 5 16 5s16-2.239 16-5v-6c0 2.761-7.163 5-16 5z\"></path>\n",
       "</symbol>\n",
       "<symbol id=\"icon-file-text2\" viewBox=\"0 0 32 32\">\n",
       "<path d=\"M28.681 7.159c-0.694-0.947-1.662-2.053-2.724-3.116s-2.169-2.030-3.116-2.724c-1.612-1.182-2.393-1.319-2.841-1.319h-15.5c-1.378 0-2.5 1.121-2.5 2.5v27c0 1.378 1.122 2.5 2.5 2.5h23c1.378 0 2.5-1.122 2.5-2.5v-19.5c0-0.448-0.137-1.23-1.319-2.841zM24.543 5.457c0.959 0.959 1.712 1.825 2.268 2.543h-4.811v-4.811c0.718 0.556 1.584 1.309 2.543 2.268zM28 29.5c0 0.271-0.229 0.5-0.5 0.5h-23c-0.271 0-0.5-0.229-0.5-0.5v-27c0-0.271 0.229-0.5 0.5-0.5 0 0 15.499-0 15.5 0v7c0 0.552 0.448 1 1 1h7v19.5z\"></path>\n",
       "<path d=\"M23 26h-14c-0.552 0-1-0.448-1-1s0.448-1 1-1h14c0.552 0 1 0.448 1 1s-0.448 1-1 1z\"></path>\n",
       "<path d=\"M23 22h-14c-0.552 0-1-0.448-1-1s0.448-1 1-1h14c0.552 0 1 0.448 1 1s-0.448 1-1 1z\"></path>\n",
       "<path d=\"M23 18h-14c-0.552 0-1-0.448-1-1s0.448-1 1-1h14c0.552 0 1 0.448 1 1s-0.448 1-1 1z\"></path>\n",
       "</symbol>\n",
       "</defs>\n",
       "</svg>\n",
       "<style>/* CSS stylesheet for displaying xarray objects in jupyterlab.\n",
       " *\n",
       " */\n",
       "\n",
       ":root {\n",
       "  --xr-font-color0: var(\n",
       "    --jp-content-font-color0,\n",
       "    var(--pst-color-text-base rgba(0, 0, 0, 1))\n",
       "  );\n",
       "  --xr-font-color2: var(\n",
       "    --jp-content-font-color2,\n",
       "    var(--pst-color-text-base, rgba(0, 0, 0, 0.54))\n",
       "  );\n",
       "  --xr-font-color3: var(\n",
       "    --jp-content-font-color3,\n",
       "    var(--pst-color-text-base, rgba(0, 0, 0, 0.38))\n",
       "  );\n",
       "  --xr-border-color: var(\n",
       "    --jp-border-color2,\n",
       "    hsl(from var(--pst-color-on-background, white) h s calc(l - 10))\n",
       "  );\n",
       "  --xr-disabled-color: var(\n",
       "    --jp-layout-color3,\n",
       "    hsl(from var(--pst-color-on-background, white) h s calc(l - 40))\n",
       "  );\n",
       "  --xr-background-color: var(\n",
       "    --jp-layout-color0,\n",
       "    var(--pst-color-on-background, white)\n",
       "  );\n",
       "  --xr-background-color-row-even: var(\n",
       "    --jp-layout-color1,\n",
       "    hsl(from var(--pst-color-on-background, white) h s calc(l - 5))\n",
       "  );\n",
       "  --xr-background-color-row-odd: var(\n",
       "    --jp-layout-color2,\n",
       "    hsl(from var(--pst-color-on-background, white) h s calc(l - 15))\n",
       "  );\n",
       "}\n",
       "\n",
       "html[theme=\"dark\"],\n",
       "html[data-theme=\"dark\"],\n",
       "body[data-theme=\"dark\"],\n",
       "body.vscode-dark {\n",
       "  --xr-font-color0: var(\n",
       "    --jp-content-font-color0,\n",
       "    var(--pst-color-text-base, rgba(255, 255, 255, 1))\n",
       "  );\n",
       "  --xr-font-color2: var(\n",
       "    --jp-content-font-color2,\n",
       "    var(--pst-color-text-base, rgba(255, 255, 255, 0.54))\n",
       "  );\n",
       "  --xr-font-color3: var(\n",
       "    --jp-content-font-color3,\n",
       "    var(--pst-color-text-base, rgba(255, 255, 255, 0.38))\n",
       "  );\n",
       "  --xr-border-color: var(\n",
       "    --jp-border-color2,\n",
       "    hsl(from var(--pst-color-on-background, #111111) h s calc(l + 10))\n",
       "  );\n",
       "  --xr-disabled-color: var(\n",
       "    --jp-layout-color3,\n",
       "    hsl(from var(--pst-color-on-background, #111111) h s calc(l + 40))\n",
       "  );\n",
       "  --xr-background-color: var(\n",
       "    --jp-layout-color0,\n",
       "    var(--pst-color-on-background, #111111)\n",
       "  );\n",
       "  --xr-background-color-row-even: var(\n",
       "    --jp-layout-color1,\n",
       "    hsl(from var(--pst-color-on-background, #111111) h s calc(l + 5))\n",
       "  );\n",
       "  --xr-background-color-row-odd: var(\n",
       "    --jp-layout-color2,\n",
       "    hsl(from var(--pst-color-on-background, #111111) h s calc(l + 15))\n",
       "  );\n",
       "}\n",
       "\n",
       ".xr-wrap {\n",
       "  display: block !important;\n",
       "  min-width: 300px;\n",
       "  max-width: 700px;\n",
       "}\n",
       "\n",
       ".xr-text-repr-fallback {\n",
       "  /* fallback to plain text repr when CSS is not injected (untrusted notebook) */\n",
       "  display: none;\n",
       "}\n",
       "\n",
       ".xr-header {\n",
       "  padding-top: 6px;\n",
       "  padding-bottom: 6px;\n",
       "  margin-bottom: 4px;\n",
       "  border-bottom: solid 1px var(--xr-border-color);\n",
       "}\n",
       "\n",
       ".xr-header > div,\n",
       ".xr-header > ul {\n",
       "  display: inline;\n",
       "  margin-top: 0;\n",
       "  margin-bottom: 0;\n",
       "}\n",
       "\n",
       ".xr-obj-type,\n",
       ".xr-array-name {\n",
       "  margin-left: 2px;\n",
       "  margin-right: 10px;\n",
       "}\n",
       "\n",
       ".xr-obj-type {\n",
       "  color: var(--xr-font-color2);\n",
       "}\n",
       "\n",
       ".xr-sections {\n",
       "  padding-left: 0 !important;\n",
       "  display: grid;\n",
       "  grid-template-columns: 150px auto auto 1fr 0 20px 0 20px;\n",
       "}\n",
       "\n",
       ".xr-section-item {\n",
       "  display: contents;\n",
       "}\n",
       "\n",
       ".xr-section-item input {\n",
       "  display: inline-block;\n",
       "  opacity: 0;\n",
       "  height: 0;\n",
       "}\n",
       "\n",
       ".xr-section-item input + label {\n",
       "  color: var(--xr-disabled-color);\n",
       "  border: 2px solid transparent !important;\n",
       "}\n",
       "\n",
       ".xr-section-item input:enabled + label {\n",
       "  cursor: pointer;\n",
       "  color: var(--xr-font-color2);\n",
       "}\n",
       "\n",
       ".xr-section-item input:focus + label {\n",
       "  border: 2px solid var(--xr-font-color0) !important;\n",
       "}\n",
       "\n",
       ".xr-section-item input:enabled + label:hover {\n",
       "  color: var(--xr-font-color0);\n",
       "}\n",
       "\n",
       ".xr-section-summary {\n",
       "  grid-column: 1;\n",
       "  color: var(--xr-font-color2);\n",
       "  font-weight: 500;\n",
       "}\n",
       "\n",
       ".xr-section-summary > span {\n",
       "  display: inline-block;\n",
       "  padding-left: 0.5em;\n",
       "}\n",
       "\n",
       ".xr-section-summary-in:disabled + label {\n",
       "  color: var(--xr-font-color2);\n",
       "}\n",
       "\n",
       ".xr-section-summary-in + label:before {\n",
       "  display: inline-block;\n",
       "  content: \"►\";\n",
       "  font-size: 11px;\n",
       "  width: 15px;\n",
       "  text-align: center;\n",
       "}\n",
       "\n",
       ".xr-section-summary-in:disabled + label:before {\n",
       "  color: var(--xr-disabled-color);\n",
       "}\n",
       "\n",
       ".xr-section-summary-in:checked + label:before {\n",
       "  content: \"▼\";\n",
       "}\n",
       "\n",
       ".xr-section-summary-in:checked + label > span {\n",
       "  display: none;\n",
       "}\n",
       "\n",
       ".xr-section-summary,\n",
       ".xr-section-inline-details {\n",
       "  padding-top: 4px;\n",
       "  padding-bottom: 4px;\n",
       "}\n",
       "\n",
       ".xr-section-inline-details {\n",
       "  grid-column: 2 / -1;\n",
       "}\n",
       "\n",
       ".xr-section-details {\n",
       "  display: none;\n",
       "  grid-column: 1 / -1;\n",
       "  margin-bottom: 5px;\n",
       "}\n",
       "\n",
       ".xr-section-summary-in:checked ~ .xr-section-details {\n",
       "  display: contents;\n",
       "}\n",
       "\n",
       ".xr-array-wrap {\n",
       "  grid-column: 1 / -1;\n",
       "  display: grid;\n",
       "  grid-template-columns: 20px auto;\n",
       "}\n",
       "\n",
       ".xr-array-wrap > label {\n",
       "  grid-column: 1;\n",
       "  vertical-align: top;\n",
       "}\n",
       "\n",
       ".xr-preview {\n",
       "  color: var(--xr-font-color3);\n",
       "}\n",
       "\n",
       ".xr-array-preview,\n",
       ".xr-array-data {\n",
       "  padding: 0 5px !important;\n",
       "  grid-column: 2;\n",
       "}\n",
       "\n",
       ".xr-array-data,\n",
       ".xr-array-in:checked ~ .xr-array-preview {\n",
       "  display: none;\n",
       "}\n",
       "\n",
       ".xr-array-in:checked ~ .xr-array-data,\n",
       ".xr-array-preview {\n",
       "  display: inline-block;\n",
       "}\n",
       "\n",
       ".xr-dim-list {\n",
       "  display: inline-block !important;\n",
       "  list-style: none;\n",
       "  padding: 0 !important;\n",
       "  margin: 0;\n",
       "}\n",
       "\n",
       ".xr-dim-list li {\n",
       "  display: inline-block;\n",
       "  padding: 0;\n",
       "  margin: 0;\n",
       "}\n",
       "\n",
       ".xr-dim-list:before {\n",
       "  content: \"(\";\n",
       "}\n",
       "\n",
       ".xr-dim-list:after {\n",
       "  content: \")\";\n",
       "}\n",
       "\n",
       ".xr-dim-list li:not(:last-child):after {\n",
       "  content: \",\";\n",
       "  padding-right: 5px;\n",
       "}\n",
       "\n",
       ".xr-has-index {\n",
       "  font-weight: bold;\n",
       "}\n",
       "\n",
       ".xr-var-list,\n",
       ".xr-var-item {\n",
       "  display: contents;\n",
       "}\n",
       "\n",
       ".xr-var-item > div,\n",
       ".xr-var-item label,\n",
       ".xr-var-item > .xr-var-name span {\n",
       "  background-color: var(--xr-background-color-row-even);\n",
       "  border-color: var(--xr-background-color-row-odd);\n",
       "  margin-bottom: 0;\n",
       "  padding-top: 2px;\n",
       "}\n",
       "\n",
       ".xr-var-item > .xr-var-name:hover span {\n",
       "  padding-right: 5px;\n",
       "}\n",
       "\n",
       ".xr-var-list > li:nth-child(odd) > div,\n",
       ".xr-var-list > li:nth-child(odd) > label,\n",
       ".xr-var-list > li:nth-child(odd) > .xr-var-name span {\n",
       "  background-color: var(--xr-background-color-row-odd);\n",
       "  border-color: var(--xr-background-color-row-even);\n",
       "}\n",
       "\n",
       ".xr-var-name {\n",
       "  grid-column: 1;\n",
       "}\n",
       "\n",
       ".xr-var-dims {\n",
       "  grid-column: 2;\n",
       "}\n",
       "\n",
       ".xr-var-dtype {\n",
       "  grid-column: 3;\n",
       "  text-align: right;\n",
       "  color: var(--xr-font-color2);\n",
       "}\n",
       "\n",
       ".xr-var-preview {\n",
       "  grid-column: 4;\n",
       "}\n",
       "\n",
       ".xr-index-preview {\n",
       "  grid-column: 2 / 5;\n",
       "  color: var(--xr-font-color2);\n",
       "}\n",
       "\n",
       ".xr-var-name,\n",
       ".xr-var-dims,\n",
       ".xr-var-dtype,\n",
       ".xr-preview,\n",
       ".xr-attrs dt {\n",
       "  white-space: nowrap;\n",
       "  overflow: hidden;\n",
       "  text-overflow: ellipsis;\n",
       "  padding-right: 10px;\n",
       "}\n",
       "\n",
       ".xr-var-name:hover,\n",
       ".xr-var-dims:hover,\n",
       ".xr-var-dtype:hover,\n",
       ".xr-attrs dt:hover {\n",
       "  overflow: visible;\n",
       "  width: auto;\n",
       "  z-index: 1;\n",
       "}\n",
       "\n",
       ".xr-var-attrs,\n",
       ".xr-var-data,\n",
       ".xr-index-data {\n",
       "  display: none;\n",
       "  border-top: 2px dotted var(--xr-background-color);\n",
       "  padding-bottom: 20px !important;\n",
       "  padding-top: 10px !important;\n",
       "}\n",
       "\n",
       ".xr-var-attrs-in + label,\n",
       ".xr-var-data-in + label,\n",
       ".xr-index-data-in + label {\n",
       "  padding: 0 1px;\n",
       "}\n",
       "\n",
       ".xr-var-attrs-in:checked ~ .xr-var-attrs,\n",
       ".xr-var-data-in:checked ~ .xr-var-data,\n",
       ".xr-index-data-in:checked ~ .xr-index-data {\n",
       "  display: block;\n",
       "}\n",
       "\n",
       ".xr-var-data > table {\n",
       "  float: right;\n",
       "}\n",
       "\n",
       ".xr-var-data > pre,\n",
       ".xr-index-data > pre,\n",
       ".xr-var-data > table > tbody > tr {\n",
       "  background-color: transparent !important;\n",
       "}\n",
       "\n",
       ".xr-var-name span,\n",
       ".xr-var-data,\n",
       ".xr-index-name div,\n",
       ".xr-index-data,\n",
       ".xr-attrs {\n",
       "  padding-left: 25px !important;\n",
       "}\n",
       "\n",
       ".xr-attrs,\n",
       ".xr-var-attrs,\n",
       ".xr-var-data,\n",
       ".xr-index-data {\n",
       "  grid-column: 1 / -1;\n",
       "}\n",
       "\n",
       "dl.xr-attrs {\n",
       "  padding: 0;\n",
       "  margin: 0;\n",
       "  display: grid;\n",
       "  grid-template-columns: 125px auto;\n",
       "}\n",
       "\n",
       ".xr-attrs dt,\n",
       ".xr-attrs dd {\n",
       "  padding: 0;\n",
       "  margin: 0;\n",
       "  float: left;\n",
       "  padding-right: 10px;\n",
       "  width: auto;\n",
       "}\n",
       "\n",
       ".xr-attrs dt {\n",
       "  font-weight: normal;\n",
       "  grid-column: 1;\n",
       "}\n",
       "\n",
       ".xr-attrs dt:hover span {\n",
       "  display: inline-block;\n",
       "  background: var(--xr-background-color);\n",
       "  padding-right: 10px;\n",
       "}\n",
       "\n",
       ".xr-attrs dd {\n",
       "  grid-column: 2;\n",
       "  white-space: pre-wrap;\n",
       "  word-break: break-all;\n",
       "}\n",
       "\n",
       ".xr-icon-database,\n",
       ".xr-icon-file-text2,\n",
       ".xr-no-icon {\n",
       "  display: inline-block;\n",
       "  vertical-align: middle;\n",
       "  width: 1em;\n",
       "  height: 1.5em !important;\n",
       "  stroke-width: 0;\n",
       "  stroke: currentColor;\n",
       "  fill: currentColor;\n",
       "}\n",
       "\n",
       ".xr-var-attrs-in:checked + label > .xr-icon-file-text2,\n",
       ".xr-var-data-in:checked + label > .xr-icon-database,\n",
       ".xr-index-data-in:checked + label > .xr-icon-database {\n",
       "  color: var(--xr-font-color0);\n",
       "  filter: drop-shadow(1px 1px 5px var(--xr-font-color2));\n",
       "  stroke-width: 0.8px;\n",
       "}\n",
       "</style><pre class='xr-text-repr-fallback'>&lt;TimeSeries (dteday: 5, component: 4, sample: 1)&gt; Size: 160B\n",
       "array([[[3.44167e-01],\n",
       "        [8.05833e-01],\n",
       "        [1.60446e-01],\n",
       "        [9.85000e+02]],\n",
       "\n",
       "       [[3.63478e-01],\n",
       "        [6.96087e-01],\n",
       "        [2.48539e-01],\n",
       "        [8.01000e+02]],\n",
       "\n",
       "       [[1.96364e-01],\n",
       "        [4.37273e-01],\n",
       "        [2.48309e-01],\n",
       "        [1.34900e+03]],\n",
       "\n",
       "       [[2.00000e-01],\n",
       "        [5.90435e-01],\n",
       "        [1.60296e-01],\n",
       "        [1.56200e+03]],\n",
       "\n",
       "       [[2.26957e-01],\n",
       "        [4.36957e-01],\n",
       "        [1.86900e-01],\n",
       "        [1.60000e+03]]])\n",
       "Coordinates:\n",
       "  * dteday     (dteday) datetime64[ns] 40B 2011-01-01 2011-01-02 ... 2011-01-05\n",
       "  * component  (component) object 32B &#x27;temp&#x27; &#x27;hum&#x27; &#x27;windspeed&#x27; &#x27;cnt&#x27;\n",
       "Dimensions without coordinates: sample\n",
       "Attributes:\n",
       "    static_covariates:  None\n",
       "    hierarchy:          None\n",
       "    metadata:           None</pre><div class='xr-wrap' style='display:none'><div class='xr-header'><div class='xr-obj-type'>TimeSeries</div><div class='xr-array-name'></div><ul class='xr-dim-list'><li><span class='xr-has-index'>dteday</span>: 5</li><li><span class='xr-has-index'>component</span>: 4</li><li><span>sample</span>: 1</li></ul></div><ul class='xr-sections'><li class='xr-section-item'><div class='xr-array-wrap'><input id='section-7749ee1d-26d8-4140-9f6b-035cffcc38e2' class='xr-array-in' type='checkbox' checked><label for='section-7749ee1d-26d8-4140-9f6b-035cffcc38e2' title='Show/hide data repr'><svg class='icon xr-icon-database'><use xlink:href='#icon-database'></use></svg></label><div class='xr-array-preview xr-preview'><span>0.3442 0.8058 0.1604 985.0 0.3635 ... 0.227 0.437 0.1869 1.6e+03</span></div><div class='xr-array-data'><pre>array([[[3.44167e-01],\n",
       "        [8.05833e-01],\n",
       "        [1.60446e-01],\n",
       "        [9.85000e+02]],\n",
       "\n",
       "       [[3.63478e-01],\n",
       "        [6.96087e-01],\n",
       "        [2.48539e-01],\n",
       "        [8.01000e+02]],\n",
       "\n",
       "       [[1.96364e-01],\n",
       "        [4.37273e-01],\n",
       "        [2.48309e-01],\n",
       "        [1.34900e+03]],\n",
       "\n",
       "       [[2.00000e-01],\n",
       "        [5.90435e-01],\n",
       "        [1.60296e-01],\n",
       "        [1.56200e+03]],\n",
       "\n",
       "       [[2.26957e-01],\n",
       "        [4.36957e-01],\n",
       "        [1.86900e-01],\n",
       "        [1.60000e+03]]])</pre></div></div></li><li class='xr-section-item'><input id='section-c8e32e08-be3e-40f6-a721-10c0b6937573' class='xr-section-summary-in' type='checkbox'  checked><label for='section-c8e32e08-be3e-40f6-a721-10c0b6937573' class='xr-section-summary' >Coordinates: <span>(2)</span></label><div class='xr-section-inline-details'></div><div class='xr-section-details'><ul class='xr-var-list'><li class='xr-var-item'><div class='xr-var-name'><span class='xr-has-index'>dteday</span></div><div class='xr-var-dims'>(dteday)</div><div class='xr-var-dtype'>datetime64[ns]</div><div class='xr-var-preview xr-preview'>2011-01-01 ... 2011-01-05</div><input id='attrs-c371dffc-31a2-43c5-9ea0-00979206e8f2' class='xr-var-attrs-in' type='checkbox' disabled><label for='attrs-c371dffc-31a2-43c5-9ea0-00979206e8f2' title='Show/Hide attributes'><svg class='icon xr-icon-file-text2'><use xlink:href='#icon-file-text2'></use></svg></label><input id='data-bcde9ecd-35aa-4aaf-84f9-eef88cf3a494' class='xr-var-data-in' type='checkbox'><label for='data-bcde9ecd-35aa-4aaf-84f9-eef88cf3a494' title='Show/Hide data repr'><svg class='icon xr-icon-database'><use xlink:href='#icon-database'></use></svg></label><div class='xr-var-attrs'><dl class='xr-attrs'></dl></div><div class='xr-var-data'><pre>array([&#x27;2011-01-01T00:00:00.000000000&#x27;, &#x27;2011-01-02T00:00:00.000000000&#x27;,\n",
       "       &#x27;2011-01-03T00:00:00.000000000&#x27;, &#x27;2011-01-04T00:00:00.000000000&#x27;,\n",
       "       &#x27;2011-01-05T00:00:00.000000000&#x27;], dtype=&#x27;datetime64[ns]&#x27;)</pre></div></li><li class='xr-var-item'><div class='xr-var-name'><span class='xr-has-index'>component</span></div><div class='xr-var-dims'>(component)</div><div class='xr-var-dtype'>object</div><div class='xr-var-preview xr-preview'>&#x27;temp&#x27; &#x27;hum&#x27; &#x27;windspeed&#x27; &#x27;cnt&#x27;</div><input id='attrs-f723e1dd-826c-4ea1-a7b8-e0f5a32a47ca' class='xr-var-attrs-in' type='checkbox' disabled><label for='attrs-f723e1dd-826c-4ea1-a7b8-e0f5a32a47ca' title='Show/Hide attributes'><svg class='icon xr-icon-file-text2'><use xlink:href='#icon-file-text2'></use></svg></label><input id='data-4d7d85d4-57d3-4d61-bde8-be90d53be1c5' class='xr-var-data-in' type='checkbox'><label for='data-4d7d85d4-57d3-4d61-bde8-be90d53be1c5' title='Show/Hide data repr'><svg class='icon xr-icon-database'><use xlink:href='#icon-database'></use></svg></label><div class='xr-var-attrs'><dl class='xr-attrs'></dl></div><div class='xr-var-data'><pre>array([&#x27;temp&#x27;, &#x27;hum&#x27;, &#x27;windspeed&#x27;, &#x27;cnt&#x27;], dtype=object)</pre></div></li></ul></div></li><li class='xr-section-item'><input id='section-5beca85e-b830-4b36-a488-12c2c422f85f' class='xr-section-summary-in' type='checkbox'  ><label for='section-5beca85e-b830-4b36-a488-12c2c422f85f' class='xr-section-summary' >Indexes: <span>(2)</span></label><div class='xr-section-inline-details'></div><div class='xr-section-details'><ul class='xr-var-list'><li class='xr-var-item'><div class='xr-index-name'><div>dteday</div></div><div class='xr-index-preview'>PandasIndex</div><input type='checkbox' disabled/><label></label><input id='index-7fb3da6e-21fb-4443-81c6-a016e408cfde' class='xr-index-data-in' type='checkbox'/><label for='index-7fb3da6e-21fb-4443-81c6-a016e408cfde' title='Show/Hide index repr'><svg class='icon xr-icon-database'><use xlink:href='#icon-database'></use></svg></label><div class='xr-index-data'><pre>PandasIndex(DatetimeIndex([&#x27;2011-01-01&#x27;, &#x27;2011-01-02&#x27;, &#x27;2011-01-03&#x27;, &#x27;2011-01-04&#x27;,\n",
       "               &#x27;2011-01-05&#x27;],\n",
       "              dtype=&#x27;datetime64[ns]&#x27;, name=&#x27;dteday&#x27;, freq=&#x27;D&#x27;))</pre></div></li><li class='xr-var-item'><div class='xr-index-name'><div>component</div></div><div class='xr-index-preview'>PandasIndex</div><input type='checkbox' disabled/><label></label><input id='index-869befd0-a116-4371-9224-46f76a8f3e0f' class='xr-index-data-in' type='checkbox'/><label for='index-869befd0-a116-4371-9224-46f76a8f3e0f' title='Show/Hide index repr'><svg class='icon xr-icon-database'><use xlink:href='#icon-database'></use></svg></label><div class='xr-index-data'><pre>PandasIndex(Index([&#x27;temp&#x27;, &#x27;hum&#x27;, &#x27;windspeed&#x27;, &#x27;cnt&#x27;], dtype=&#x27;object&#x27;, name=&#x27;component&#x27;))</pre></div></li></ul></div></li><li class='xr-section-item'><input id='section-bc30c27b-933e-42ba-ae3f-4565b28c2b32' class='xr-section-summary-in' type='checkbox'  checked><label for='section-bc30c27b-933e-42ba-ae3f-4565b28c2b32' class='xr-section-summary' >Attributes: <span>(3)</span></label><div class='xr-section-inline-details'></div><div class='xr-section-details'><dl class='xr-attrs'><dt><span>static_covariates :</span></dt><dd>None</dd><dt><span>hierarchy :</span></dt><dd>None</dd><dt><span>metadata :</span></dt><dd>None</dd></dl></div></li></ul></div></div>"
      ],
      "text/plain": [
       "<TimeSeries (dteday: 5, component: 4, sample: 1)> Size: 160B\n",
       "array([[[3.44167e-01],\n",
       "        [8.05833e-01],\n",
       "        [1.60446e-01],\n",
       "        [9.85000e+02]],\n",
       "\n",
       "       [[3.63478e-01],\n",
       "        [6.96087e-01],\n",
       "        [2.48539e-01],\n",
       "        [8.01000e+02]],\n",
       "\n",
       "       [[1.96364e-01],\n",
       "        [4.37273e-01],\n",
       "        [2.48309e-01],\n",
       "        [1.34900e+03]],\n",
       "\n",
       "       [[2.00000e-01],\n",
       "        [5.90435e-01],\n",
       "        [1.60296e-01],\n",
       "        [1.56200e+03]],\n",
       "\n",
       "       [[2.26957e-01],\n",
       "        [4.36957e-01],\n",
       "        [1.86900e-01],\n",
       "        [1.60000e+03]]])\n",
       "Coordinates:\n",
       "  * dteday     (dteday) datetime64[ns] 40B 2011-01-01 2011-01-02 ... 2011-01-05\n",
       "  * component  (component) object 32B 'temp' 'hum' 'windspeed' 'cnt'\n",
       "Dimensions without coordinates: sample\n",
       "Attributes:\n",
       "    static_covariates:  None\n",
       "    hierarchy:          None\n",
       "    metadata:           None"
      ]
     },
     "execution_count": 6,
     "metadata": {},
     "output_type": "execute_result"
    }
   ],
   "source": [
    "series.head()"
   ]
  },
  {
   "cell_type": "code",
   "execution_count": 7,
   "id": "d6fe94f8-c25c-4a9e-84c0-c960c7f48c6f",
   "metadata": {},
   "outputs": [],
   "source": [
    "# 4. Normalisasi data \n",
    "scaler = Scaler()\n",
    "series_scaled = scaler.fit_transform(series)\n",
    "\n",
    "# 5. Bagi train-test (80% train, 20% test)\n",
    "train, test = series_scaled.split_before(0.8)"
   ]
  },
  {
   "cell_type": "markdown",
   "id": "d9d57ffc-d4fd-4091-9926-8fc207f6f100",
   "metadata": {},
   "source": [
    "## Scaler digunakan agar data dalam rentang [0,1].\n",
    "* (LSTM lebih stabil dengan data yang diskalakan)"
   ]
  },
  {
   "cell_type": "code",
   "execution_count": 8,
   "id": "91d44cb2-2382-412a-8d5b-5ac17015cedd",
   "metadata": {},
   "outputs": [
    {
     "data": {
      "text/plain": [
       "RNNModel(model=LSTM, hidden_dim=20, n_rnn_layers=1, dropout=0.1, training_length=24, batch_size=16, n_epochs=100, input_chunk_length=14, random_state=404)"
      ]
     },
     "execution_count": 8,
     "metadata": {},
     "output_type": "execute_result"
    }
   ],
   "source": [
    "# 6. Buat model LSTM sederhana\n",
    "model = RNNModel(\n",
    "    model=\"LSTM\",          # jenis model (RNN, LSTM, GRU)\n",
    "    hidden_dim=20,         # jumlah neuron hidden layer\n",
    "    n_rnn_layers=1,        # jumlah layer LSTM\n",
    "    dropout=0.1,           # dropout agar tidak overfitting\n",
    "    batch_size=16,\n",
    "    n_epochs=100,          # jumlah epoch training\n",
    "    input_chunk_length=14, # melihat 14 hari sebelumnya\n",
    "    #output_chunk_length=1, # memprediksi 1 hari ke depan\n",
    "    random_state=404)\n",
    "model"
   ]
  },
  {
   "cell_type": "markdown",
   "id": "304574b9-045a-4761-910a-f42248cc2c93",
   "metadata": {},
   "source": [
    "## Model LSTM (RNNModel) dibuat dengan parameter sederhana:\n",
    "\n",
    "* input_chunk_length=14 → model melihat 14 hari terakhir\n",
    "* output_chunk_length=1 → memprediksi 1 hari ke depan"
   ]
  },
  {
   "cell_type": "code",
   "execution_count": 9,
   "id": "3291d162-69c3-4158-a856-e18a0f4fc626",
   "metadata": {},
   "outputs": [
    {
     "name": "stderr",
     "output_type": "stream",
     "text": [
      "GPU available: False, used: False\n",
      "TPU available: False, using: 0 TPU cores\n",
      "HPU available: False, using: 0 HPUs\n",
      "\n",
      "  | Name            | Type             | Params | Mode \n",
      "-------------------------------------------------------------\n",
      "0 | criterion       | MSELoss          | 0      | train\n",
      "1 | train_criterion | MSELoss          | 0      | train\n",
      "2 | val_criterion   | MSELoss          | 0      | train\n",
      "3 | train_metrics   | MetricCollection | 0      | train\n",
      "4 | val_metrics     | MetricCollection | 0      | train\n",
      "5 | rnn             | LSTM             | 2.1 K  | train\n",
      "6 | V               | Linear           | 84     | train\n",
      "-------------------------------------------------------------\n",
      "2.2 K     Trainable params\n",
      "0         Non-trainable params\n",
      "2.2 K     Total params\n",
      "0.009     Total estimated model params size (MB)\n",
      "7         Modules in train mode\n",
      "0         Modules in eval mode\n"
     ]
    },
    {
     "data": {
      "application/vnd.jupyter.widget-view+json": {
       "model_id": "ae5cd93dd6e840218d6c2d5e59d96bdd",
       "version_major": 2,
       "version_minor": 0
      },
      "text/plain": [
       "Training: |                                                                                      | 0/? [00:00<…"
      ]
     },
     "metadata": {},
     "output_type": "display_data"
    },
    {
     "name": "stderr",
     "output_type": "stream",
     "text": [
      "`Trainer.fit` stopped: `max_epochs=100` reached.\n"
     ]
    },
    {
     "data": {
      "text/plain": [
       "RNNModel(model=LSTM, hidden_dim=20, n_rnn_layers=1, dropout=0.1, training_length=24, batch_size=16, n_epochs=100, input_chunk_length=14, random_state=404)"
      ]
     },
     "execution_count": 9,
     "metadata": {},
     "output_type": "execute_result"
    }
   ],
   "source": [
    "# 7. Latih model\n",
    "model.fit(train, verbose=True)"
   ]
  },
  {
   "cell_type": "markdown",
   "id": "dcd7321d-f730-43a1-bc5c-f29ae19996d7",
   "metadata": {},
   "source": [
    "# Training dilakukan di data train (80%)."
   ]
  },
  {
   "cell_type": "code",
   "execution_count": 10,
   "id": "2a5ec566-3294-4d53-9f63-aeab1178cf7b",
   "metadata": {},
   "outputs": [
    {
     "name": "stderr",
     "output_type": "stream",
     "text": [
      "GPU available: False, used: False\n",
      "TPU available: False, using: 0 TPU cores\n",
      "HPU available: False, using: 0 HPUs\n"
     ]
    },
    {
     "data": {
      "application/vnd.jupyter.widget-view+json": {
       "model_id": "a0ac33406f1146af9218151258f86083",
       "version_major": 2,
       "version_minor": 0
      },
      "text/plain": [
       "Predicting: |                                                                                    | 0/? [00:00<…"
      ]
     },
     "metadata": {},
     "output_type": "display_data"
    },
    {
     "name": "stdout",
     "output_type": "stream",
     "text": [
      "MAPE: 180.33%\n"
     ]
    },
    {
     "data": {
      "image/png": "[encoded data removed]",
      "text/plain": [
       "<Figure size 1200x600 with 1 Axes>"
      ]
     },
     "metadata": {},
     "output_type": "display_data"
    }
   ],
   "source": [
    "# 8. Prediksi ke depan sepanjang data test\n",
    "forecast = model.predict(len(test))\n",
    "\n",
    "# Balikkan ke skala asli\n",
    "forecast = scaler.inverse_transform(forecast)\n",
    "actual = scaler.inverse_transform(test)\n",
    "\n",
    "# 9. Evaluasi kinerja model\n",
    "error = mape(actual['cnt'], forecast['cnt'])\n",
    "print(f\"MAPE: {error:.2f}%\")\n",
    "\n",
    "# 10. Visualisasi hasil prediksi vs data asli\n",
    "plt.figure(figsize=(12, 6))\n",
    "actual['cnt'].plot(label=\"Actual\")\n",
    "forecast['cnt'].plot(label=\"Forecast\")\n",
    "plt.legend()\n",
    "plt.title(\"Bike Sharing Forecasting with LSTM (Multivariate)\")\n",
    "plt.show()"
   ]
  },
  {
   "cell_type": "markdown",
   "id": "1b5865a0-0997-4972-b623-297a89590c69",
   "metadata": {},
   "source": [
    "* Forecast dibandingkan dengan data test.\n",
    "* MAPE digunakan sebagai ukuran error.\n",
    "* Hasil visualisasi memperlihatkan prediksi LSTM dibandingkan data asli."
   ]
  },
  {
   "cell_type": "markdown",
   "id": "ab487ad8-cf90-4fd8-89b1-561ed1aa7401",
   "metadata": {},
   "source": [
    "# Optimasi Model Multivariate Time Series di Darts?"
   ]
  },
  {
   "cell_type": "code",
   "execution_count": 11,
   "id": "2c99a283-6fcd-46ef-b45b-c81d49471807",
   "metadata": {},
   "outputs": [
    {
     "data": {
      "application/vnd.jupyter.widget-view+json": {
       "model_id": "b9496e1845e14d349802cf5ab58ee58c",
       "version_major": 2,
       "version_minor": 0
      },
      "text/plain": [
       "gridsearch:   0%|          | 0/8 [00:00<?, ?it/s]"
      ]
     },
     "metadata": {},
     "output_type": "display_data"
    },
    {
     "name": "stderr",
     "output_type": "stream",
     "text": [
      "GPU available: False, used: False\n",
      "TPU available: False, using: 0 TPU cores\n",
      "HPU available: False, using: 0 HPUs\n",
      "\n",
      "  | Name            | Type             | Params | Mode \n",
      "-------------------------------------------------------------\n",
      "0 | criterion       | MSELoss          | 0      | train\n",
      "1 | train_criterion | MSELoss          | 0      | train\n",
      "2 | val_criterion   | MSELoss          | 0      | train\n",
      "3 | train_metrics   | MetricCollection | 0      | train\n",
      "4 | val_metrics     | MetricCollection | 0      | train\n",
      "5 | rnn             | RNN              | 520    | train\n",
      "6 | V               | Linear           | 84     | train\n",
      "-------------------------------------------------------------\n",
      "604       Trainable params\n",
      "0         Non-trainable params\n",
      "604       Total params\n",
      "0.002     Total estimated model params size (MB)\n",
      "7         Modules in train mode\n",
      "0         Modules in eval mode\n"
     ]
    },
    {
     "data": {
      "application/vnd.jupyter.widget-view+json": {
       "model_id": "5abc70ce1de145b1af9fac55a1f184c5",
       "version_major": 2,
       "version_minor": 0
      },
      "text/plain": [
       "Training: |                                                                                      | 0/? [00:00<…"
      ]
     },
     "metadata": {},
     "output_type": "display_data"
    },
    {
     "name": "stderr",
     "output_type": "stream",
     "text": [
      "`Trainer.fit` stopped: `max_epochs=100` reached.\n",
      "GPU available: False, used: False\n",
      "TPU available: False, using: 0 TPU cores\n",
      "HPU available: False, using: 0 HPUs\n"
     ]
    },
    {
     "data": {
      "application/vnd.jupyter.widget-view+json": {
       "model_id": "3ee1aa315634445a8a4fcce94ca9af2b",
       "version_major": 2,
       "version_minor": 0
      },
      "text/plain": [
       "Predicting: |                                                                                    | 0/? [00:00<…"
      ]
     },
     "metadata": {},
     "output_type": "display_data"
    },
    {
     "data": {
      "application/vnd.jupyter.widget-view+json": {
       "model_id": "d4aeb8892da14fbabe03a5adb31815c5",
       "version_major": 2,
       "version_minor": 0
      },
      "text/plain": [
       "Generating TimeSeries:   0%|          | 0/1 [00:00<?, ?it/s]"
      ]
     },
     "metadata": {},
     "output_type": "display_data"
    },
    {
     "name": "stderr",
     "output_type": "stream",
     "text": [
      "GPU available: False, used: False\n",
      "TPU available: False, using: 0 TPU cores\n",
      "HPU available: False, using: 0 HPUs\n",
      "\n",
      "  | Name            | Type             | Params | Mode \n",
      "-------------------------------------------------------------\n",
      "0 | criterion       | MSELoss          | 0      | train\n",
      "1 | train_criterion | MSELoss          | 0      | train\n",
      "2 | val_criterion   | MSELoss          | 0      | train\n",
      "3 | train_metrics   | MetricCollection | 0      | train\n",
      "4 | val_metrics     | MetricCollection | 0      | train\n",
      "5 | rnn             | RNN              | 1.4 K  | train\n",
      "6 | V               | Linear           | 84     | train\n",
      "-------------------------------------------------------------\n",
      "1.4 K     Trainable params\n",
      "0         Non-trainable params\n",
      "1.4 K     Total params\n",
      "0.006     Total estimated model params size (MB)\n",
      "7         Modules in train mode\n",
      "0         Modules in eval mode\n"
     ]
    },
    {
     "data": {
      "application/vnd.jupyter.widget-view+json": {
       "model_id": "fdf4bddaaf594ee38f48c78f39e97187",
       "version_major": 2,
       "version_minor": 0
      },
      "text/plain": [
       "Training: |                                                                                      | 0/? [00:00<…"
      ]
     },
     "metadata": {},
     "output_type": "display_data"
    },
    {
     "name": "stderr",
     "output_type": "stream",
     "text": [
      "`Trainer.fit` stopped: `max_epochs=100` reached.\n",
      "GPU available: False, used: False\n",
      "TPU available: False, using: 0 TPU cores\n",
      "HPU available: False, using: 0 HPUs\n"
     ]
    },
    {
     "data": {
      "application/vnd.jupyter.widget-view+json": {
       "model_id": "e07533ec5fd94cee9924882bb581c337",
       "version_major": 2,
       "version_minor": 0
      },
      "text/plain": [
       "Predicting: |                                                                                    | 0/? [00:00<…"
      ]
     },
     "metadata": {},
     "output_type": "display_data"
    },
    {
     "data": {
      "application/vnd.jupyter.widget-view+json": {
       "model_id": "0b5635a938594e63b381ab6b820e98a7",
       "version_major": 2,
       "version_minor": 0
      },
      "text/plain": [
       "Generating TimeSeries:   0%|          | 0/1 [00:00<?, ?it/s]"
      ]
     },
     "metadata": {},
     "output_type": "display_data"
    },
    {
     "name": "stderr",
     "output_type": "stream",
     "text": [
      "GPU available: False, used: False\n",
      "TPU available: False, using: 0 TPU cores\n",
      "HPU available: False, using: 0 HPUs\n",
      "\n",
      "  | Name            | Type             | Params | Mode \n",
      "-------------------------------------------------------------\n",
      "0 | criterion       | MSELoss          | 0      | train\n",
      "1 | train_criterion | MSELoss          | 0      | train\n",
      "2 | val_criterion   | MSELoss          | 0      | train\n",
      "3 | train_metrics   | MetricCollection | 0      | train\n",
      "4 | val_metrics     | MetricCollection | 0      | train\n",
      "5 | rnn             | RNN              | 1.1 K  | train\n",
      "6 | V               | Linear           | 124    | train\n",
      "-------------------------------------------------------------\n",
      "1.2 K     Trainable params\n",
      "0         Non-trainable params\n",
      "1.2 K     Total params\n",
      "0.005     Total estimated model params size (MB)\n",
      "7         Modules in train mode\n",
      "0         Modules in eval mode\n"
     ]
    },
    {
     "data": {
      "application/vnd.jupyter.widget-view+json": {
       "model_id": "716021d546544497a96c66b3013760af",
       "version_major": 2,
       "version_minor": 0
      },
      "text/plain": [
       "Training: |                                                                                      | 0/? [00:00<…"
      ]
     },
     "metadata": {},
     "output_type": "display_data"
    },
    {
     "name": "stderr",
     "output_type": "stream",
     "text": [
      "`Trainer.fit` stopped: `max_epochs=100` reached.\n",
      "GPU available: False, used: False\n",
      "TPU available: False, using: 0 TPU cores\n",
      "HPU available: False, using: 0 HPUs\n"
     ]
    },
    {
     "data": {
      "application/vnd.jupyter.widget-view+json": {
       "model_id": "a69d0ed65f71403cbdeb72016d5beb56",
       "version_major": 2,
       "version_minor": 0
      },
      "text/plain": [
       "Predicting: |                                                                                    | 0/? [00:00<…"
      ]
     },
     "metadata": {},
     "output_type": "display_data"
    },
    {
     "data": {
      "application/vnd.jupyter.widget-view+json": {
       "model_id": "89d49053a1f94e61ba790426b1533be3",
       "version_major": 2,
       "version_minor": 0
      },
      "text/plain": [
       "Generating TimeSeries:   0%|          | 0/1 [00:00<?, ?it/s]"
      ]
     },
     "metadata": {},
     "output_type": "display_data"
    },
    {
     "name": "stderr",
     "output_type": "stream",
     "text": [
      "GPU available: False, used: False\n",
      "TPU available: False, using: 0 TPU cores\n",
      "HPU available: False, using: 0 HPUs\n",
      "\n",
      "  | Name            | Type             | Params | Mode \n",
      "-------------------------------------------------------------\n",
      "0 | criterion       | MSELoss          | 0      | train\n",
      "1 | train_criterion | MSELoss          | 0      | train\n",
      "2 | val_criterion   | MSELoss          | 0      | train\n",
      "3 | train_metrics   | MetricCollection | 0      | train\n",
      "4 | val_metrics     | MetricCollection | 0      | train\n",
      "5 | rnn             | RNN              | 2.9 K  | train\n",
      "6 | V               | Linear           | 124    | train\n",
      "-------------------------------------------------------------\n",
      "3.1 K     Trainable params\n",
      "0         Non-trainable params\n",
      "3.1 K     Total params\n",
      "0.012     Total estimated model params size (MB)\n",
      "7         Modules in train mode\n",
      "0         Modules in eval mode\n"
     ]
    },
    {
     "data": {
      "application/vnd.jupyter.widget-view+json": {
       "model_id": "ba30a59e34af4b0daee72fbeb0d4cd0f",
       "version_major": 2,
       "version_minor": 0
      },
      "text/plain": [
       "Training: |                                                                                      | 0/? [00:00<…"
      ]
     },
     "metadata": {},
     "output_type": "display_data"
    },
    {
     "name": "stderr",
     "output_type": "stream",
     "text": [
      "`Trainer.fit` stopped: `max_epochs=100` reached.\n",
      "GPU available: False, used: False\n",
      "TPU available: False, using: 0 TPU cores\n",
      "HPU available: False, using: 0 HPUs\n"
     ]
    },
    {
     "data": {
      "application/vnd.jupyter.widget-view+json": {
       "model_id": "7c1854a2cc9b41fbb7a0d7d75e24063e",
       "version_major": 2,
       "version_minor": 0
      },
      "text/plain": [
       "Predicting: |                                                                                    | 0/? [00:00<…"
      ]
     },
     "metadata": {},
     "output_type": "display_data"
    },
    {
     "data": {
      "application/vnd.jupyter.widget-view+json": {
       "model_id": "6e0062364f384d3389584c26a29648a6",
       "version_major": 2,
       "version_minor": 0
      },
      "text/plain": [
       "Generating TimeSeries:   0%|          | 0/1 [00:00<?, ?it/s]"
      ]
     },
     "metadata": {},
     "output_type": "display_data"
    },
    {
     "name": "stderr",
     "output_type": "stream",
     "text": [
      "GPU available: False, used: False\n",
      "TPU available: False, using: 0 TPU cores\n",
      "HPU available: False, using: 0 HPUs\n",
      "\n",
      "  | Name            | Type             | Params | Mode \n",
      "-------------------------------------------------------------\n",
      "0 | criterion       | MSELoss          | 0      | train\n",
      "1 | train_criterion | MSELoss          | 0      | train\n",
      "2 | val_criterion   | MSELoss          | 0      | train\n",
      "3 | train_metrics   | MetricCollection | 0      | train\n",
      "4 | val_metrics     | MetricCollection | 0      | train\n",
      "5 | rnn             | RNN              | 520    | train\n",
      "6 | V               | Linear           | 84     | train\n",
      "-------------------------------------------------------------\n",
      "604       Trainable params\n",
      "0         Non-trainable params\n",
      "604       Total params\n",
      "0.002     Total estimated model params size (MB)\n",
      "7         Modules in train mode\n",
      "0         Modules in eval mode\n"
     ]
    },
    {
     "data": {
      "application/vnd.jupyter.widget-view+json": {
       "model_id": "a9c514909bf14aab812ec4a23b6393e1",
       "version_major": 2,
       "version_minor": 0
      },
      "text/plain": [
       "Training: |                                                                                      | 0/? [00:00<…"
      ]
     },
     "metadata": {},
     "output_type": "display_data"
    },
    {
     "name": "stderr",
     "output_type": "stream",
     "text": [
      "`Trainer.fit` stopped: `max_epochs=100` reached.\n",
      "GPU available: False, used: False\n",
      "TPU available: False, using: 0 TPU cores\n",
      "HPU available: False, using: 0 HPUs\n"
     ]
    },
    {
     "data": {
      "application/vnd.jupyter.widget-view+json": {
       "model_id": "7755ba2c5060427492bdcbcbc5beeecc",
       "version_major": 2,
       "version_minor": 0
      },
      "text/plain": [
       "Predicting: |                                                                                    | 0/? [00:00<…"
      ]
     },
     "metadata": {},
     "output_type": "display_data"
    },
    {
     "data": {
      "application/vnd.jupyter.widget-view+json": {
       "model_id": "9c5accb82b5a4c0b92675403b6b18174",
       "version_major": 2,
       "version_minor": 0
      },
      "text/plain": [
       "Generating TimeSeries:   0%|          | 0/1 [00:00<?, ?it/s]"
      ]
     },
     "metadata": {},
     "output_type": "display_data"
    },
    {
     "name": "stderr",
     "output_type": "stream",
     "text": [
      "GPU available: False, used: False\n",
      "TPU available: False, using: 0 TPU cores\n",
      "HPU available: False, using: 0 HPUs\n",
      "\n",
      "  | Name            | Type             | Params | Mode \n",
      "-------------------------------------------------------------\n",
      "0 | criterion       | MSELoss          | 0      | train\n",
      "1 | train_criterion | MSELoss          | 0      | train\n",
      "2 | val_criterion   | MSELoss          | 0      | train\n",
      "3 | train_metrics   | MetricCollection | 0      | train\n",
      "4 | val_metrics     | MetricCollection | 0      | train\n",
      "5 | rnn             | RNN              | 1.4 K  | train\n",
      "6 | V               | Linear           | 84     | train\n",
      "-------------------------------------------------------------\n",
      "1.4 K     Trainable params\n",
      "0         Non-trainable params\n",
      "1.4 K     Total params\n",
      "0.006     Total estimated model params size (MB)\n",
      "7         Modules in train mode\n",
      "0         Modules in eval mode\n"
     ]
    },
    {
     "data": {
      "application/vnd.jupyter.widget-view+json": {
       "model_id": "9b452fc89d44488c8d9a654fa9072334",
       "version_major": 2,
       "version_minor": 0
      },
      "text/plain": [
       "Training: |                                                                                      | 0/? [00:00<…"
      ]
     },
     "metadata": {},
     "output_type": "display_data"
    },
    {
     "name": "stderr",
     "output_type": "stream",
     "text": [
      "`Trainer.fit` stopped: `max_epochs=100` reached.\n",
      "GPU available: False, used: False\n",
      "TPU available: False, using: 0 TPU cores\n",
      "HPU available: False, using: 0 HPUs\n"
     ]
    },
    {
     "data": {
      "application/vnd.jupyter.widget-view+json": {
       "model_id": "498bdbea45ce493cb7565eea5bcbe7b7",
       "version_major": 2,
       "version_minor": 0
      },
      "text/plain": [
       "Predicting: |                                                                                    | 0/? [00:00<…"
      ]
     },
     "metadata": {},
     "output_type": "display_data"
    },
    {
     "data": {
      "application/vnd.jupyter.widget-view+json": {
       "model_id": "06b9a829d6014f95a65f4811de616209",
       "version_major": 2,
       "version_minor": 0
      },
      "text/plain": [
       "Generating TimeSeries:   0%|          | 0/1 [00:00<?, ?it/s]"
      ]
     },
     "metadata": {},
     "output_type": "display_data"
    },
    {
     "name": "stderr",
     "output_type": "stream",
     "text": [
      "GPU available: False, used: False\n",
      "TPU available: False, using: 0 TPU cores\n",
      "HPU available: False, using: 0 HPUs\n",
      "\n",
      "  | Name            | Type             | Params | Mode \n",
      "-------------------------------------------------------------\n",
      "0 | criterion       | MSELoss          | 0      | train\n",
      "1 | train_criterion | MSELoss          | 0      | train\n",
      "2 | val_criterion   | MSELoss          | 0      | train\n",
      "3 | train_metrics   | MetricCollection | 0      | train\n",
      "4 | val_metrics     | MetricCollection | 0      | train\n",
      "5 | rnn             | RNN              | 1.1 K  | train\n",
      "6 | V               | Linear           | 124    | train\n",
      "-------------------------------------------------------------\n",
      "1.2 K     Trainable params\n",
      "0         Non-trainable params\n",
      "1.2 K     Total params\n",
      "0.005     Total estimated model params size (MB)\n",
      "7         Modules in train mode\n",
      "0         Modules in eval mode\n"
     ]
    },
    {
     "data": {
      "application/vnd.jupyter.widget-view+json": {
       "model_id": "1b8d0e43474440018489da72ca3623d2",
       "version_major": 2,
       "version_minor": 0
      },
      "text/plain": [
       "Training: |                                                                                      | 0/? [00:00<…"
      ]
     },
     "metadata": {},
     "output_type": "display_data"
    },
    {
     "name": "stderr",
     "output_type": "stream",
     "text": [
      "`Trainer.fit` stopped: `max_epochs=100` reached.\n",
      "GPU available: False, used: False\n",
      "TPU available: False, using: 0 TPU cores\n",
      "HPU available: False, using: 0 HPUs\n"
     ]
    },
    {
     "data": {
      "application/vnd.jupyter.widget-view+json": {
       "model_id": "cd65e2740f8546e0b74cd75c5fe12fe3",
       "version_major": 2,
       "version_minor": 0
      },
      "text/plain": [
       "Predicting: |                                                                                    | 0/? [00:00<…"
      ]
     },
     "metadata": {},
     "output_type": "display_data"
    },
    {
     "data": {
      "application/vnd.jupyter.widget-view+json": {
       "model_id": "eae8ad08f1fd4303a7cece5e6cc06299",
       "version_major": 2,
       "version_minor": 0
      },
      "text/plain": [
       "Generating TimeSeries:   0%|          | 0/1 [00:00<?, ?it/s]"
      ]
     },
     "metadata": {},
     "output_type": "display_data"
    },
    {
     "name": "stderr",
     "output_type": "stream",
     "text": [
      "GPU available: False, used: False\n",
      "TPU available: False, using: 0 TPU cores\n",
      "HPU available: False, using: 0 HPUs\n",
      "\n",
      "  | Name            | Type             | Params | Mode \n",
      "-------------------------------------------------------------\n",
      "0 | criterion       | MSELoss          | 0      | train\n",
      "1 | train_criterion | MSELoss          | 0      | train\n",
      "2 | val_criterion   | MSELoss          | 0      | train\n",
      "3 | train_metrics   | MetricCollection | 0      | train\n",
      "4 | val_metrics     | MetricCollection | 0      | train\n",
      "5 | rnn             | RNN              | 2.9 K  | train\n",
      "6 | V               | Linear           | 124    | train\n",
      "-------------------------------------------------------------\n",
      "3.1 K     Trainable params\n",
      "0         Non-trainable params\n",
      "3.1 K     Total params\n",
      "0.012     Total estimated model params size (MB)\n",
      "7         Modules in train mode\n",
      "0         Modules in eval mode\n"
     ]
    },
    {
     "data": {
      "application/vnd.jupyter.widget-view+json": {
       "model_id": "b9d7addfb5ab4e44a0c54d6e4a24534a",
       "version_major": 2,
       "version_minor": 0
      },
      "text/plain": [
       "Training: |                                                                                      | 0/? [00:00<…"
      ]
     },
     "metadata": {},
     "output_type": "display_data"
    },
    {
     "name": "stderr",
     "output_type": "stream",
     "text": [
      "`Trainer.fit` stopped: `max_epochs=100` reached.\n",
      "GPU available: False, used: False\n",
      "TPU available: False, using: 0 TPU cores\n",
      "HPU available: False, using: 0 HPUs\n"
     ]
    },
    {
     "data": {
      "application/vnd.jupyter.widget-view+json": {
       "model_id": "8a59b39b57fa48d09e2ea7f0eb8b18f4",
       "version_major": 2,
       "version_minor": 0
      },
      "text/plain": [
       "Predicting: |                                                                                    | 0/? [00:00<…"
      ]
     },
     "metadata": {},
     "output_type": "display_data"
    },
    {
     "data": {
      "application/vnd.jupyter.widget-view+json": {
       "model_id": "7608047ccf2d4b9e855332a658f2f8b4",
       "version_major": 2,
       "version_minor": 0
      },
      "text/plain": [
       "Generating TimeSeries:   0%|          | 0/1 [00:00<?, ?it/s]"
      ]
     },
     "metadata": {},
     "output_type": "display_data"
    }
   ],
   "source": [
    "# 4. Definisikan parameter grid untuk LSTM\n",
    "param_grid = {\n",
    "    \"input_chunk_length\": [6, 12],   # seberapa panjang window input\n",
    "    \"hidden_dim\": [20, 30],          # jumlah neuron di hidden layer\n",
    "    \"n_rnn_layers\": [1, 2],          # jumlah layer LSTM\n",
    "}\n",
    "# 5. Definisikan model base\n",
    "best_model, best_params, best_score = RNNModel.gridsearch(\n",
    "    parameters=param_grid,\n",
    "    series=train,\n",
    "    val_series=test,       \n",
    "    metric=smape,\n",
    "    verbose=True\n",
    ")"
   ]
  },
  {
   "cell_type": "code",
   "execution_count": 12,
   "id": "159ee02c-c076-41e4-9260-f286483eb172",
   "metadata": {},
   "outputs": [
    {
     "name": "stdout",
     "output_type": "stream",
     "text": [
      "Best parameters: {'input_chunk_length': 12, 'hidden_dim': 30, 'n_rnn_layers': 1}\n",
      "Best Validation sMAPE: 31.75189112041037\n"
     ]
    }
   ],
   "source": [
    "# 7. Ambil model terbaik\n",
    "print(\"Best parameters:\", best_params)\n",
    "print(\"Best Validation sMAPE:\", best_score)"
   ]
  },
  {
   "cell_type": "markdown",
   "id": "99dda30f-41a5-4b9d-8c3b-3bd62bc6c33b",
   "metadata": {},
   "source": [
    "# Contoh implementasi Multiple Time Series di Darts\n",
    "\n",
    "* https://unit8co.github.io/darts/examples/01-multi-time-series-and-covariates.html\n",
    "* Data yang akan kita gunakan https://www.kaggle.com/datasets/marianadeem755/stock-market-data\n",
    "\n",
    "# 📊 Multiple Time Series Forecasting: Tech Stocks Dataset\n",
    "\n",
    "## 1. Deskripsi Dataset\n",
    "Dataset ini berisi **harga saham harian** dari beberapa perusahaan teknologi terkenal seperti:\n",
    "- Apple (AAPL)  \n",
    "- Google (GOOG)  \n",
    "- Microsoft (MSFT)  \n",
    "\n",
    "Data mencakup kolom-kolom umum pada saham, seperti:\n",
    "- `Date` → Tanggal transaksi  \n",
    "- `Open` → Harga pembukaan  \n",
    "- `Close` → Harga penutupan  \n",
    "- `High` → Harga tertinggi  \n",
    "- `Low` → Harga terendah  \n",
    "- `Volume` → Jumlah saham yang diperdagangkan  \n",
    "\n",
    "## 2. Karakteristik Permasalahan\n",
    "Dataset ini merupakan contoh yang baik untuk mempelajari **multiple time series forecasting**, karena:  \n",
    "- Terdapat **lebih dari satu deret waktu (time series)**, yaitu masing-masing harga saham dari perusahaan berbeda.  \n",
    "- Semua time series menggunakan **indeks waktu yang sama (tanggal perdagangan)**, sehingga bisa dibandingkan atau dimodelkan bersama.  \n",
    "- Jumlah data relatif kecil (**< 5000 baris**), sehingga mudah dipahami pemula dan tidak terlalu berat secara komputasi.  \n",
    "\n",
    "## 3. Permasalahan yang Bisa Dikaji\n",
    "Beberapa pertanyaan analisis yang bisa dijawab menggunakan dataset ini antara lain:\n",
    "1. **Univariate Forecasting:**  \n",
    "   Memprediksi harga penutupan (close price) saham Apple (AAPL) berdasarkan data historisnya sendiri.  \n",
    "\n",
    "2. **Multivariate Forecasting:**  \n",
    "   Menggunakan data beberapa variabel dalam satu saham (misalnya `Open`, `High`, `Low`, `Volume`) untuk memprediksi harga penutupan saham yang sama.  \n",
    "\n",
    "3. **Multiple Time Series Forecasting:**  \n",
    "   Menggunakan data harga saham dari beberapa perusahaan (AAPL, MSFT, GOOG) secara bersamaan untuk melatih model, dengan tujuan memprediksi harga saham salah satu perusahaan.  \n",
    "\n",
    "## 4. Kelebihan \n",
    "- Memiliki **konteks nyata yang mudah dipahami** (fluktuasi harga saham perusahaan teknologi terkenal).  \n",
    "- Bentuk tabel sederhana dengan **kolom waktu (`Date`) dan variabel numerik**.  \n",
    "- Bisa digunakan untuk berbagai pendekatan: visualisasi tren, analisis korelasi antar saham, maupun forecasting dengan metode klasik (ARIMA) atau modern (LSTM, Prophet, Darts).\n",
    "\n",
    "<center><img alt=\"\" src=\"images/Stock-Price.jpg\" style=\"height: 400px;\"/></center> "
   ]
  },
  {
   "cell_type": "markdown",
   "id": "249b5022-b895-4736-8a69-499ddc19b3e8",
   "metadata": {},
   "source": [
    "# Multiple Time Series Forecasting dengan Darts (N-BEATS) pada Data Saham Teknologi\n",
    "\n",
    "Pada notebook ini, kita akan menggunakan dataset **Tech_stocks.csv** yang berisi data harga saham harian dari beberapa perusahaan teknologi besar: \n",
    "- Apple (AAPL)  \n",
    "- Amazon (AMZN)  \n",
    "- Google (GOOGL)  \n",
    "- Microsoft (MSFT)  \n",
    "- Nvidia (NVDA)  \n",
    "\n",
    "Kolom yang tersedia meliputi harga **Open, High, Low, Close** dan **Volume**.  \n",
    "\n",
    "Kita akan fokus pada harga **Close** untuk setiap saham, dan mencoba membangun model **multiple time series forecasting** menggunakan **N-BEATS** (Neural Basis Expansion Analysis Time Series).  \n"
   ]
  },
  {
   "cell_type": "code",
   "execution_count": 13,
   "id": "67f87bc9-80c4-421e-9884-79a51fefe6a2",
   "metadata": {},
   "outputs": [],
   "source": [
    "import pandas as pd\n",
    "from darts import TimeSeries\n",
    "from darts.models import NBEATSModel\n",
    "from darts.dataprocessing.transformers import Scaler\n",
    "from darts.utils.timeseries_generation import datetime_attribute_timeseries\n",
    "from darts.metrics import mape\n",
    "\n",
    "import matplotlib.pyplot as plt"
   ]
  },
  {
   "cell_type": "markdown",
   "id": "3ad4abee-feec-4c56-8f9c-d1c729881dc2",
   "metadata": {},
   "source": [
    "## Penjelasan\n",
    "- `pandas`: untuk membaca dan memproses data CSV.  \n",
    "- `darts.TimeSeries`: struktur data utama di Darts untuk merepresentasikan time series.  \n",
    "- `NBEATSModel`: model deep learning untuk forecasting.  \n",
    "- `Scaler`: digunakan untuk normalisasi data (penting untuk model neural network).  \n",
    "- `datetime_attribute_timeseries`: membantu menambahkan fitur berbasis waktu jika diperlukan (opsional).  \n",
    "- `mape`: metrik evaluasi forecasting (Mean Absolute Percentage Error).  \n",
    "- `matplotlib`: visualisasi hasil.  "
   ]
  },
  {
   "cell_type": "code",
   "execution_count": 14,
   "id": "1fff006c-30ab-4dad-99d8-45f0ec794638",
   "metadata": {},
   "outputs": [
    {
     "data": {
      "text/html": [
       "<div>\n",
       "<style scoped>\n",
       "    .dataframe tbody tr th:only-of-type {\n",
       "        vertical-align: middle;\n",
       "    }\n",
       "\n",
       "    .dataframe tbody tr th {\n",
       "        vertical-align: top;\n",
       "    }\n",
       "\n",
       "    .dataframe thead th {\n",
       "        text-align: right;\n",
       "    }\n",
       "</style>\n",
       "<table border=\"1\" class=\"dataframe\">\n",
       "  <thead>\n",
       "    <tr style=\"text-align: right;\">\n",
       "      <th></th>\n",
       "      <th>Close_AAPL</th>\n",
       "      <th>Close_AMZN</th>\n",
       "      <th>Close_GOOGL</th>\n",
       "      <th>Close_MSFT</th>\n",
       "      <th>Close_NVDA</th>\n",
       "      <th>High_AAPL</th>\n",
       "      <th>High_AMZN</th>\n",
       "      <th>High_GOOGL</th>\n",
       "      <th>High_MSFT</th>\n",
       "      <th>High_NVDA</th>\n",
       "      <th>...</th>\n",
       "      <th>Open_AAPL</th>\n",
       "      <th>Open_AMZN</th>\n",
       "      <th>Open_GOOGL</th>\n",
       "      <th>Open_MSFT</th>\n",
       "      <th>Open_NVDA</th>\n",
       "      <th>Volume_AAPL</th>\n",
       "      <th>Volume_AMZN</th>\n",
       "      <th>Volume_GOOGL</th>\n",
       "      <th>Volume_MSFT</th>\n",
       "      <th>Volume_NVDA</th>\n",
       "    </tr>\n",
       "    <tr>\n",
       "      <th>Date</th>\n",
       "      <th></th>\n",
       "      <th></th>\n",
       "      <th></th>\n",
       "      <th></th>\n",
       "      <th></th>\n",
       "      <th></th>\n",
       "      <th></th>\n",
       "      <th></th>\n",
       "      <th></th>\n",
       "      <th></th>\n",
       "      <th></th>\n",
       "      <th></th>\n",
       "      <th></th>\n",
       "      <th></th>\n",
       "      <th></th>\n",
       "      <th></th>\n",
       "      <th></th>\n",
       "      <th></th>\n",
       "      <th></th>\n",
       "      <th></th>\n",
       "      <th></th>\n",
       "    </tr>\n",
       "  </thead>\n",
       "  <tbody>\n",
       "    <tr>\n",
       "      <th>2010-01-04</th>\n",
       "      <td>6.440330</td>\n",
       "      <td>6.6950</td>\n",
       "      <td>15.609805</td>\n",
       "      <td>23.254051</td>\n",
       "      <td>0.423884</td>\n",
       "      <td>6.455075</td>\n",
       "      <td>6.8305</td>\n",
       "      <td>15.678546</td>\n",
       "      <td>23.366752</td>\n",
       "      <td>0.426864</td>\n",
       "      <td>...</td>\n",
       "      <td>6.422875</td>\n",
       "      <td>6.8125</td>\n",
       "      <td>15.614786</td>\n",
       "      <td>23.006108</td>\n",
       "      <td>0.424342</td>\n",
       "      <td>493729600</td>\n",
       "      <td>151998000</td>\n",
       "      <td>78169752</td>\n",
       "      <td>38409100</td>\n",
       "      <td>800204000</td>\n",
       "    </tr>\n",
       "    <tr>\n",
       "      <th>2010-01-05</th>\n",
       "      <td>6.451465</td>\n",
       "      <td>6.7345</td>\n",
       "      <td>15.541064</td>\n",
       "      <td>23.261557</td>\n",
       "      <td>0.430073</td>\n",
       "      <td>6.487878</td>\n",
       "      <td>6.7740</td>\n",
       "      <td>15.636953</td>\n",
       "      <td>23.366746</td>\n",
       "      <td>0.434658</td>\n",
       "      <td>...</td>\n",
       "      <td>6.458086</td>\n",
       "      <td>6.6715</td>\n",
       "      <td>15.620515</td>\n",
       "      <td>23.178910</td>\n",
       "      <td>0.422279</td>\n",
       "      <td>601904800</td>\n",
       "      <td>177038000</td>\n",
       "      <td>120067812</td>\n",
       "      <td>49749600</td>\n",
       "      <td>728648000</td>\n",
       "    </tr>\n",
       "    <tr>\n",
       "      <th>2010-01-06</th>\n",
       "      <td>6.348847</td>\n",
       "      <td>6.6125</td>\n",
       "      <td>15.149294</td>\n",
       "      <td>23.118809</td>\n",
       "      <td>0.432824</td>\n",
       "      <td>6.477046</td>\n",
       "      <td>6.7365</td>\n",
       "      <td>15.587638</td>\n",
       "      <td>23.351725</td>\n",
       "      <td>0.433741</td>\n",
       "      <td>...</td>\n",
       "      <td>6.451466</td>\n",
       "      <td>6.7300</td>\n",
       "      <td>15.587638</td>\n",
       "      <td>23.201455</td>\n",
       "      <td>0.429844</td>\n",
       "      <td>552160000</td>\n",
       "      <td>143576000</td>\n",
       "      <td>158988852</td>\n",
       "      <td>58182400</td>\n",
       "      <td>649168000</td>\n",
       "    </tr>\n",
       "    <tr>\n",
       "      <th>2010-01-07</th>\n",
       "      <td>6.337109</td>\n",
       "      <td>6.5000</td>\n",
       "      <td>14.796624</td>\n",
       "      <td>22.878376</td>\n",
       "      <td>0.424342</td>\n",
       "      <td>6.379842</td>\n",
       "      <td>6.6160</td>\n",
       "      <td>15.192630</td>\n",
       "      <td>23.066212</td>\n",
       "      <td>0.432366</td>\n",
       "      <td>...</td>\n",
       "      <td>6.372319</td>\n",
       "      <td>6.6005</td>\n",
       "      <td>15.177685</td>\n",
       "      <td>23.013616</td>\n",
       "      <td>0.430532</td>\n",
       "      <td>477131200</td>\n",
       "      <td>220604000</td>\n",
       "      <td>256315428</td>\n",
       "      <td>50559700</td>\n",
       "      <td>547792000</td>\n",
       "    </tr>\n",
       "    <tr>\n",
       "      <th>2010-01-08</th>\n",
       "      <td>6.379242</td>\n",
       "      <td>6.6760</td>\n",
       "      <td>14.993881</td>\n",
       "      <td>23.036165</td>\n",
       "      <td>0.425259</td>\n",
       "      <td>6.379844</td>\n",
       "      <td>6.6840</td>\n",
       "      <td>15.024515</td>\n",
       "      <td>23.201460</td>\n",
       "      <td>0.428239</td>\n",
       "      <td>...</td>\n",
       "      <td>6.328685</td>\n",
       "      <td>6.5280</td>\n",
       "      <td>14.744323</td>\n",
       "      <td>22.750656</td>\n",
       "      <td>0.420903</td>\n",
       "      <td>447610800</td>\n",
       "      <td>196610000</td>\n",
       "      <td>188783028</td>\n",
       "      <td>51197400</td>\n",
       "      <td>478168000</td>\n",
       "    </tr>\n",
       "  </tbody>\n",
       "</table>\n",
       "<p>5 rows × 25 columns</p>\n",
       "</div>"
      ],
      "text/plain": [
       "            Close_AAPL  Close_AMZN  Close_GOOGL  Close_MSFT  Close_NVDA  \\\n",
       "Date                                                                      \n",
       "2010-01-04    6.440330      6.6950    15.609805   23.254051    0.423884   \n",
       "2010-01-05    6.451465      6.7345    15.541064   23.261557    0.430073   \n",
       "2010-01-06    6.348847      6.6125    15.149294   23.118809    0.432824   \n",
       "2010-01-07    6.337109      6.5000    14.796624   22.878376    0.424342   \n",
       "2010-01-08    6.379242      6.6760    14.993881   23.036165    0.425259   \n",
       "\n",
       "            High_AAPL  High_AMZN  High_GOOGL  High_MSFT  High_NVDA  ...  \\\n",
       "Date                                                                ...   \n",
       "2010-01-04   6.455075     6.8305   15.678546  23.366752   0.426864  ...   \n",
       "2010-01-05   6.487878     6.7740   15.636953  23.366746   0.434658  ...   \n",
       "2010-01-06   6.477046     6.7365   15.587638  23.351725   0.433741  ...   \n",
       "2010-01-07   6.379842     6.6160   15.192630  23.066212   0.432366  ...   \n",
       "2010-01-08   6.379844     6.6840   15.024515  23.201460   0.428239  ...   \n",
       "\n",
       "            Open_AAPL  Open_AMZN  Open_GOOGL  Open_MSFT  Open_NVDA  \\\n",
       "Date                                                                 \n",
       "2010-01-04   6.422875     6.8125   15.614786  23.006108   0.424342   \n",
       "2010-01-05   6.458086     6.6715   15.620515  23.178910   0.422279   \n",
       "2010-01-06   6.451466     6.7300   15.587638  23.201455   0.429844   \n",
       "2010-01-07   6.372319     6.6005   15.177685  23.013616   0.430532   \n",
       "2010-01-08   6.328685     6.5280   14.744323  22.750656   0.420903   \n",
       "\n",
       "            Volume_AAPL  Volume_AMZN  Volume_GOOGL  Volume_MSFT  Volume_NVDA  \n",
       "Date                                                                          \n",
       "2010-01-04    493729600    151998000      78169752     38409100    800204000  \n",
       "2010-01-05    601904800    177038000     120067812     49749600    728648000  \n",
       "2010-01-06    552160000    143576000     158988852     58182400    649168000  \n",
       "2010-01-07    477131200    220604000     256315428     50559700    547792000  \n",
       "2010-01-08    447610800    196610000     188783028     51197400    478168000  \n",
       "\n",
       "[5 rows x 25 columns]"
      ]
     },
     "execution_count": 14,
     "metadata": {},
     "output_type": "execute_result"
    }
   ],
   "source": [
    "# === 2. Load data ===\n",
    "df = pd.read_csv(\"data/Tech_stocks.csv\")\n",
    "\n",
    "# Pastikan kolom Date dalam format datetime\n",
    "df['Date'] = pd.to_datetime(df['Date'])\n",
    "\n",
    "# Set index menjadi Date\n",
    "df = df.set_index('Date')\n",
    "\n",
    "df.head()"
   ]
  },
  {
   "cell_type": "code",
   "execution_count": 15,
   "id": "41714d55-bb34-4272-85b6-85ce72724c19",
   "metadata": {},
   "outputs": [
    {
     "data": {
      "text/plain": [
       "Index(['Close_AAPL', 'Close_AMZN', 'Close_GOOGL', 'Close_MSFT', 'Close_NVDA',\n",
       "       'High_AAPL', 'High_AMZN', 'High_GOOGL', 'High_MSFT', 'High_NVDA',\n",
       "       'Low_AAPL', 'Low_AMZN', 'Low_GOOGL', 'Low_MSFT', 'Low_NVDA',\n",
       "       'Open_AAPL', 'Open_AMZN', 'Open_GOOGL', 'Open_MSFT', 'Open_NVDA',\n",
       "       'Volume_AAPL', 'Volume_AMZN', 'Volume_GOOGL', 'Volume_MSFT',\n",
       "       'Volume_NVDA'],\n",
       "      dtype='object')"
      ]
     },
     "execution_count": 15,
     "metadata": {},
     "output_type": "execute_result"
    }
   ],
   "source": [
    "df.columns"
   ]
  },
  {
   "cell_type": "code",
   "execution_count": 16,
   "id": "cfdf7264-9b59-45d6-b76b-4bdc01512e21",
   "metadata": {},
   "outputs": [
    {
     "name": "stdout",
     "output_type": "stream",
     "text": [
      "Close_AAPL      0\n",
      "Close_AMZN      0\n",
      "Close_GOOGL     0\n",
      "Close_MSFT      0\n",
      "Close_NVDA      0\n",
      "High_AAPL       0\n",
      "High_AMZN       0\n",
      "High_GOOGL      0\n",
      "High_MSFT       0\n",
      "High_NVDA       0\n",
      "Low_AAPL        0\n",
      "Low_AMZN        0\n",
      "Low_GOOGL       0\n",
      "Low_MSFT        0\n",
      "Low_NVDA        0\n",
      "Open_AAPL       0\n",
      "Open_AMZN       0\n",
      "Open_GOOGL      0\n",
      "Open_MSFT       0\n",
      "Open_NVDA       0\n",
      "Volume_AAPL     0\n",
      "Volume_AMZN     0\n",
      "Volume_GOOGL    0\n",
      "Volume_MSFT     0\n",
      "Volume_NVDA     0\n",
      "dtype: int64\n"
     ]
    }
   ],
   "source": [
    "print(df.isna().sum())"
   ]
  },
  {
   "cell_type": "code",
   "execution_count": 17,
   "id": "a4542441-2087-42ce-9e9f-b4b877b4163f",
   "metadata": {},
   "outputs": [
    {
     "name": "stdout",
     "output_type": "stream",
     "text": [
      "<class 'pandas.core.frame.DataFrame'>\n",
      "DatetimeIndex: 3774 entries, 2010-01-04 to 2024-12-31\n",
      "Data columns (total 25 columns):\n",
      " #   Column        Non-Null Count  Dtype  \n",
      "---  ------        --------------  -----  \n",
      " 0   Close_AAPL    3774 non-null   float64\n",
      " 1   Close_AMZN    3774 non-null   float64\n",
      " 2   Close_GOOGL   3774 non-null   float64\n",
      " 3   Close_MSFT    3774 non-null   float64\n",
      " 4   Close_NVDA    3774 non-null   float64\n",
      " 5   High_AAPL     3774 non-null   float64\n",
      " 6   High_AMZN     3774 non-null   float64\n",
      " 7   High_GOOGL    3774 non-null   float64\n",
      " 8   High_MSFT     3774 non-null   float64\n",
      " 9   High_NVDA     3774 non-null   float64\n",
      " 10  Low_AAPL      3774 non-null   float64\n",
      " 11  Low_AMZN      3774 non-null   float64\n",
      " 12  Low_GOOGL     3774 non-null   float64\n",
      " 13  Low_MSFT      3774 non-null   float64\n",
      " 14  Low_NVDA      3774 non-null   float64\n",
      " 15  Open_AAPL     3774 non-null   float64\n",
      " 16  Open_AMZN     3774 non-null   float64\n",
      " 17  Open_GOOGL    3774 non-null   float64\n",
      " 18  Open_MSFT     3774 non-null   float64\n",
      " 19  Open_NVDA     3774 non-null   float64\n",
      " 20  Volume_AAPL   3774 non-null   int64  \n",
      " 21  Volume_AMZN   3774 non-null   int64  \n",
      " 22  Volume_GOOGL  3774 non-null   int64  \n",
      " 23  Volume_MSFT   3774 non-null   int64  \n",
      " 24  Volume_NVDA   3774 non-null   int64  \n",
      "dtypes: float64(20), int64(5)\n",
      "memory usage: 766.6 KB\n"
     ]
    }
   ],
   "source": [
    "df.info()"
   ]
  },
  {
   "cell_type": "markdown",
   "id": "56fdb174-e752-49cf-a3ab-b6f20dc3dad3",
   "metadata": {},
   "source": [
    "## Penjelasan\n",
    "- Kita membaca dataset `Tech_stocks.csv`.  \n",
    "- Kolom `Date` diubah menjadi format `datetime`.  \n",
    "- `Date` dijadikan index agar sesuai dengan format time series di Darts.  \n"
   ]
  },
  {
   "cell_type": "code",
   "execution_count": 18,
   "id": "25d9efee-d7bb-4efb-a305-a08fad350127",
   "metadata": {},
   "outputs": [
    {
     "data": {
      "image/png": "[encoded data removed]",
      "text/plain": [
       "<Figure size 640x480 with 1 Axes>"
      ]
     },
     "metadata": {},
     "output_type": "display_data"
    }
   ],
   "source": [
    "# === 3. Membuat multiple time series untuk beberapa saham (Close price) ===\n",
    "\n",
    "# List kolom close yang ingin digunakan\n",
    "close_cols = [\"Close_AMZN\", \"Close_GOOGL\", \"Close_NVDA\"]\n",
    "\n",
    "# Konversi tiap kolom menjadi TimeSeries Darts\n",
    "series_list = [TimeSeries.from_series(df[col], freq=\"D\") for col in close_cols]\n",
    "\n",
    "# Lihat contoh 1 series\n",
    "series_list[0].plot()\n",
    "plt.title(\"Contoh Time Series: {} Price\".format(close_cols[0]))\n",
    "plt.show()"
   ]
  },
  {
   "cell_type": "markdown",
   "id": "14ec5d8a-d9e8-4f48-b6e5-dc16ed4cf26c",
   "metadata": {},
   "source": [
    "## Penjelasan\n",
    "- Kita fokus pada harga `Close` dari 5 saham.  \n",
    "- `TimeSeries.from_series()` mengubah setiap kolom harga menjadi objek `TimeSeries` Darts.  \n",
    "- Hasilnya adalah list berisi beberapa time series (`series_list`).  \n",
    "- Kita plot salah satu (AAPL) sebagai contoh.  \n"
   ]
  },
  {
   "cell_type": "code",
   "execution_count": 19,
   "id": "8b0d4940-169d-41a2-857a-613ef36fd442",
   "metadata": {},
   "outputs": [
    {
     "data": {
      "text/plain": [
       "(3, 3)"
      ]
     },
     "execution_count": 19,
     "metadata": {},
     "output_type": "execute_result"
    }
   ],
   "source": [
    "# === 4. Split data menjadi train dan val untuk setiap series ===\n",
    "N = 300\n",
    "train_list = [s[:-N] for s in series_list]   # data latih (sebelum N hari terakhir)\n",
    "val_list   = [s[-N:] for s in series_list]   # data validasi (N hari terakhir)\n",
    "len(train_list), len(val_list)"
   ]
  },
  {
   "cell_type": "markdown",
   "id": "63d64b93-b7bd-4552-ab58-496e2a8e67f5",
   "metadata": {},
   "source": [
    "# <center><font color=\"red\">Hati-hati!!!</font></center>"
   ]
  },
  {
   "cell_type": "code",
   "execution_count": 20,
   "id": "20fa08b2-6052-420e-8d0e-60b24ea8b9fc",
   "metadata": {},
   "outputs": [
    {
     "data": {
      "text/plain": [
       "[<TimeSeries (Date: 300, component: 1, sample: 1)> Size: 2kB\n",
       " array([[[176.82000732]],\n",
       " \n",
       "        [[175.3500061 ]],\n",
       " \n",
       "        [[         nan]],\n",
       " \n",
       "        [[         nan]],\n",
       " \n",
       "        [[171.96000671]],\n",
       " \n",
       "        [[175.38999939]],\n",
       " \n",
       "        [[176.55999756]],\n",
       " \n",
       "        [[178.75      ]],\n",
       " \n",
       "        [[174.41999817]],\n",
       " \n",
       "        [[         nan]],\n",
       " \n",
       " ...\n",
       " \n",
       "        [[         nan]],\n",
       " \n",
       "        [[225.05999756]],\n",
       " \n",
       "        [[229.05000305]],\n",
       " \n",
       "        [[         nan]],\n",
       " \n",
       "        [[227.05000305]],\n",
       " \n",
       "        [[223.75      ]],\n",
       " \n",
       "        [[         nan]],\n",
       " \n",
       "        [[         nan]],\n",
       " \n",
       "        [[221.30000305]],\n",
       " \n",
       "        [[219.38999939]]])\n",
       " Coordinates:\n",
       "   * Date       (Date) datetime64[ns] 2kB 2024-03-07 2024-03-08 ... 2024-12-31\n",
       "   * component  (component) object 8B 'Close_AMZN'\n",
       " Dimensions without coordinates: sample\n",
       " Attributes:\n",
       "     static_covariates:  None\n",
       "     hierarchy:          None\n",
       "     metadata:           None,\n",
       " <TimeSeries (Date: 300, component: 1, sample: 1)> Size: 2kB\n",
       " array([[[133.74060059]],\n",
       " \n",
       "        [[134.76568604]],\n",
       " \n",
       "        [[         nan]],\n",
       " \n",
       "        [[         nan]],\n",
       " \n",
       "        [[137.01493835]],\n",
       " \n",
       "        [[137.84098816]],\n",
       " \n",
       "        [[139.12483215]],\n",
       " \n",
       "        [[142.41911316]],\n",
       " \n",
       "        [[140.50823975]],\n",
       " \n",
       "        [[         nan]],\n",
       " \n",
       " ...\n",
       " \n",
       "        [[         nan]],\n",
       " \n",
       "        [[194.40611267]],\n",
       " \n",
       "        [[195.88439941]],\n",
       " \n",
       "        [[         nan]],\n",
       " \n",
       "        [[195.375     ]],\n",
       " \n",
       "        [[192.53825378]],\n",
       " \n",
       "        [[         nan]],\n",
       " \n",
       "        [[         nan]],\n",
       " \n",
       "        [[191.02000427]],\n",
       " \n",
       "        [[189.08224487]]])\n",
       " Coordinates:\n",
       "   * Date       (Date) datetime64[ns] 2kB 2024-03-07 2024-03-08 ... 2024-12-31\n",
       "   * component  (component) object 8B 'Close_GOOGL'\n",
       " Dimensions without coordinates: sample\n",
       " Attributes:\n",
       "     static_covariates:  None\n",
       "     hierarchy:          None\n",
       "     metadata:           None,\n",
       " <TimeSeries (Date: 300, component: 1, sample: 1)> Size: 2kB\n",
       " array([[[ 92.6385498 ]],\n",
       " \n",
       "        [[ 87.49925232]],\n",
       " \n",
       "        [[         nan]],\n",
       " \n",
       "        [[         nan]],\n",
       " \n",
       "        [[ 85.74583435]],\n",
       " \n",
       "        [[ 91.8828125 ]],\n",
       " \n",
       "        [[ 90.85813904]],\n",
       " \n",
       "        [[ 87.91510773]],\n",
       " \n",
       "        [[ 87.80813599]],\n",
       " \n",
       "        [[         nan]],\n",
       " \n",
       " ...\n",
       " \n",
       "        [[         nan]],\n",
       " \n",
       "        [[139.65715027]],\n",
       " \n",
       "        [[140.20710754]],\n",
       " \n",
       "        [[         nan]],\n",
       " \n",
       "        [[139.91712952]],\n",
       " \n",
       "        [[136.99739075]],\n",
       " \n",
       "        [[         nan]],\n",
       " \n",
       "        [[         nan]],\n",
       " \n",
       "        [[137.47735596]],\n",
       " \n",
       "        [[134.27764893]]])\n",
       " Coordinates:\n",
       "   * Date       (Date) datetime64[ns] 2kB 2024-03-07 2024-03-08 ... 2024-12-31\n",
       "   * component  (component) object 8B 'Close_NVDA'\n",
       " Dimensions without coordinates: sample\n",
       " Attributes:\n",
       "     static_covariates:  None\n",
       "     hierarchy:          None\n",
       "     metadata:           None]"
      ]
     },
     "execution_count": 20,
     "metadata": {},
     "output_type": "execute_result"
    }
   ],
   "source": [
    "val_list"
   ]
  },
  {
   "cell_type": "code",
   "execution_count": 21,
   "id": "784a1966-37dd-4c50-b31b-32ec78a961f1",
   "metadata": {},
   "outputs": [
    {
     "data": {
      "text/plain": [
       "[<TimeSeries (Date: 300, component: 1, sample: 1)> Size: 2kB\n",
       " array([[[176.82000732]],\n",
       " \n",
       "        [[175.3500061 ]],\n",
       " \n",
       "        [[174.22000631]],\n",
       " \n",
       "        [[173.09000651]],\n",
       " \n",
       "        [[171.96000671]],\n",
       " \n",
       "        [[175.38999939]],\n",
       " \n",
       "        [[176.55999756]],\n",
       " \n",
       "        [[178.75      ]],\n",
       " \n",
       "        [[174.41999817]],\n",
       " \n",
       "        [[174.43999736]],\n",
       " \n",
       " ...\n",
       " \n",
       "        [[225.0133311 ]],\n",
       " \n",
       "        [[225.05999756]],\n",
       " \n",
       "        [[229.05000305]],\n",
       " \n",
       "        [[228.05000305]],\n",
       " \n",
       "        [[227.05000305]],\n",
       " \n",
       "        [[223.75      ]],\n",
       " \n",
       "        [[222.93333435]],\n",
       " \n",
       "        [[222.1166687 ]],\n",
       " \n",
       "        [[221.30000305]],\n",
       " \n",
       "        [[219.38999939]]])\n",
       " Coordinates:\n",
       "   * Date       (Date) datetime64[ns] 2kB 2024-03-07 2024-03-08 ... 2024-12-31\n",
       "   * component  (component) object 8B 'Close_AMZN'\n",
       " Dimensions without coordinates: sample\n",
       " Attributes:\n",
       "     static_covariates:  None\n",
       "     hierarchy:          None\n",
       "     metadata:           None,\n",
       " <TimeSeries (Date: 300, component: 1, sample: 1)> Size: 2kB\n",
       " array([[[133.74060059]],\n",
       " \n",
       "        [[134.76568604]],\n",
       " \n",
       "        [[135.51543681]],\n",
       " \n",
       "        [[136.26518758]],\n",
       " \n",
       "        [[137.01493835]],\n",
       " \n",
       "        [[137.84098816]],\n",
       " \n",
       "        [[139.12483215]],\n",
       " \n",
       "        [[142.41911316]],\n",
       " \n",
       "        [[140.50823975]],\n",
       " \n",
       "        [[142.66459656]],\n",
       " \n",
       " ...\n",
       " \n",
       "        [[193.33400981]],\n",
       " \n",
       "        [[194.40611267]],\n",
       " \n",
       "        [[195.88439941]],\n",
       " \n",
       "        [[195.62969971]],\n",
       " \n",
       "        [[195.375     ]],\n",
       " \n",
       "        [[192.53825378]],\n",
       " \n",
       "        [[192.03217061]],\n",
       " \n",
       "        [[191.52608744]],\n",
       " \n",
       "        [[191.02000427]],\n",
       " \n",
       "        [[189.08224487]]])\n",
       " Coordinates:\n",
       "   * Date       (Date) datetime64[ns] 2kB 2024-03-07 2024-03-08 ... 2024-12-31\n",
       "   * component  (component) object 8B 'Close_GOOGL'\n",
       " Dimensions without coordinates: sample\n",
       " Attributes:\n",
       "     static_covariates:  None\n",
       "     hierarchy:          None\n",
       "     metadata:           None,\n",
       " <TimeSeries (Date: 300, component: 1, sample: 1)> Size: 2kB\n",
       " array([[[ 92.6385498 ]],\n",
       " \n",
       "        [[ 87.49925232]],\n",
       " \n",
       "        [[ 86.91477966]],\n",
       " \n",
       "        [[ 86.33030701]],\n",
       " \n",
       "        [[ 85.74583435]],\n",
       " \n",
       "        [[ 91.8828125 ]],\n",
       " \n",
       "        [[ 90.85813904]],\n",
       " \n",
       "        [[ 87.91510773]],\n",
       " \n",
       "        [[ 87.80813599]],\n",
       " \n",
       "        [[ 88.01407369]],\n",
       " \n",
       " ...\n",
       " \n",
       "        [[138.00063578]],\n",
       " \n",
       "        [[139.65715027]],\n",
       " \n",
       "        [[140.20710754]],\n",
       " \n",
       "        [[140.06211853]],\n",
       " \n",
       "        [[139.91712952]],\n",
       " \n",
       "        [[136.99739075]],\n",
       " \n",
       "        [[137.15737915]],\n",
       " \n",
       "        [[137.31736755]],\n",
       " \n",
       "        [[137.47735596]],\n",
       " \n",
       "        [[134.27764893]]])\n",
       " Coordinates:\n",
       "   * Date       (Date) datetime64[ns] 2kB 2024-03-07 2024-03-08 ... 2024-12-31\n",
       "   * component  (component) object 8B 'Close_NVDA'\n",
       " Dimensions without coordinates: sample\n",
       " Attributes:\n",
       "     static_covariates:  None\n",
       "     hierarchy:          None\n",
       "     metadata:           None]"
      ]
     },
     "execution_count": 21,
     "metadata": {},
     "output_type": "execute_result"
    }
   ],
   "source": [
    "from darts.utils.missing_values import fill_missing_values\n",
    "\n",
    "for i, (list1, list2) in enumerate(zip(train_list, val_list)):\n",
    "    train_list[i] = fill_missing_values(list1)\n",
    "    val_list[i] = fill_missing_values(list2)\n",
    "# Coba cek lagi\n",
    "val_list"
   ]
  },
  {
   "cell_type": "markdown",
   "id": "347b007d-b276-44f6-9c45-880c67e255d7",
   "metadata": {},
   "source": [
    "## Penjelasan\n",
    "- Kita memotong data menjadi **train** dan **validation**.  \n",
    "- 100 data poin terakhir digunakan sebagai validasi (test set).  \n",
    "- Hal ini dilakukan untuk semua saham (`series_list`).  "
   ]
  },
  {
   "cell_type": "code",
   "execution_count": 22,
   "id": "250efe71-db20-4326-b4e0-f87035b6f868",
   "metadata": {},
   "outputs": [],
   "source": [
    "# === 5. Normalisasi data menggunakan Scaler ===\n",
    "scaler = Scaler()\n",
    "train_scaled = [scaler.fit_transform(s) for s in train_list]\n",
    "val_scaled   = [scaler.transform(s) for s in val_list]"
   ]
  },
  {
   "cell_type": "markdown",
   "id": "86219545-f14b-4d04-b455-b731da43b849",
   "metadata": {},
   "source": [
    "## Penjelasan\n",
    "- Data saham memiliki skala berbeda (misalnya harga NVDA bisa jauh lebih tinggi daripada AAPL).  \n",
    "- Oleh karena itu, kita gunakan **Scaler** untuk menormalkan data sebelum masuk ke model.  \n",
    "- `fit_transform` dilakukan pada data train, lalu `transform` pada data validasi agar konsisten.  \n"
   ]
  },
  {
   "cell_type": "code",
   "execution_count": 34,
   "id": "52d7e4ee-5c37-443a-ba43-43260256c6e6",
   "metadata": {},
   "outputs": [
    {
     "name": "stderr",
     "output_type": "stream",
     "text": [
      "GPU available: False, used: False\n",
      "TPU available: False, using: 0 TPU cores\n",
      "HPU available: False, using: 0 HPUs\n",
      "\n",
      "  | Name            | Type             | Params | Mode \n",
      "-------------------------------------------------------------\n",
      "0 | criterion       | MSELoss          | 0      | train\n",
      "1 | train_criterion | MSELoss          | 0      | train\n",
      "2 | val_criterion   | MSELoss          | 0      | train\n",
      "3 | train_metrics   | MetricCollection | 0      | train\n",
      "4 | val_metrics     | MetricCollection | 0      | train\n",
      "5 | stacks          | ModuleList       | 6.2 M  | train\n",
      "-------------------------------------------------------------\n",
      "6.2 M     Trainable params\n",
      "1.4 K     Non-trainable params\n",
      "6.2 M     Total params\n",
      "24.787    Total estimated model params size (MB)\n",
      "486       Modules in train mode\n",
      "0         Modules in eval mode\n"
     ]
    },
    {
     "data": {
      "application/vnd.jupyter.widget-view+json": {
       "model_id": "c837979e541a4e989125716daee596fa",
       "version_major": 2,
       "version_minor": 0
      },
      "text/plain": [
       "Training: |                                                                                      | 0/? [00:00<…"
      ]
     },
     "metadata": {},
     "output_type": "display_data"
    },
    {
     "name": "stderr",
     "output_type": "stream",
     "text": [
      "`Trainer.fit` stopped: `max_epochs=10` reached.\n"
     ]
    },
    {
     "data": {
      "text/plain": [
       "NBEATSModel(output_chunk_shift=0, generic_architecture=True, num_stacks=30, num_blocks=1, num_layers=4, layer_widths=256, expansion_coefficient_dim=5, trend_polynomial_degree=2, dropout=0.05, activation=ReLU, input_chunk_length=24, output_chunk_length=12, n_epochs=10, batch_size=512, random_state=42, force_reset=True, optimizer_kwargs={'lr': 0.0001}, optimizer_cls=<class 'torch.optim.adamw.AdamW'>, pl_trainer_kwargs={'gradient_clip_val': 1.0, 'accelerator': 'auto'})"
      ]
     },
     "execution_count": 34,
     "metadata": {},
     "output_type": "execute_result"
    }
   ],
   "source": [
    "# === 6. Definisikan dan latih model N-BEATS untuk multiple time series ===\n",
    "import torch \n",
    "\n",
    "model = NBEATSModel(\n",
    "    input_chunk_length=24,   # panjang input (X hari terakhir)\n",
    "    output_chunk_length=12,   # prediksi Y hari ke depan\n",
    "    n_epochs=10,             # jumlah epoch training, \n",
    "    batch_size=512,\n",
    "    random_state=seed,\n",
    "    force_reset=True,\n",
    "    dropout=0.05,\n",
    "    optimizer_kwargs={\"lr\":1e-4},  # learning rate lebih kecil agar stabil\n",
    "    optimizer_cls=torch.optim.AdamW,\n",
    "    pl_trainer_kwargs={\n",
    "        \"gradient_clip_val\": 1.0,\n",
    "        \"accelerator\": \"auto\" # Use GPU if available\n",
    "    },\n",
    ")\n",
    "\n",
    "# Latih model pada multiple time series sekaligus\n",
    "model.fit(train_scaled, verbose=True)"
   ]
  },
  {
   "cell_type": "markdown",
   "id": "0bd3faf6-e18d-400d-ae0f-b073b06f758f",
   "metadata": {},
   "source": [
    "## Penjelasan\n",
    "- `input_chunk_length=X`: model akan melihat X hari terakhir untuk membuat prediksi.  \n",
    "- `output_chunk_length=Y`: model akan memprediksi Y hari ke depan.  \n",
    "- `n_epochs=M`: jumlah epoch training. Gunakan GPU dan-atau pemrograman parallel untuk mempercepat proses ini.\n",
    "- Kita melatih model dengan **daftar time series** (`train_scaled`), bukan hanya satu series.  \n",
    "- Dengan cara ini, model dapat belajar **pola bersama** antar berbagai saham.  \n"
   ]
  },
  {
   "cell_type": "code",
   "execution_count": 38,
   "id": "c03ca390-58da-45e3-9525-2f8698a34298",
   "metadata": {},
   "outputs": [
    {
     "name": "stderr",
     "output_type": "stream",
     "text": [
      "GPU available: False, used: False\n",
      "TPU available: False, using: 0 TPU cores\n",
      "HPU available: False, using: 0 HPUs\n"
     ]
    },
    {
     "data": {
      "application/vnd.jupyter.widget-view+json": {
       "model_id": "167b6b60dc794542ab7fe986cb2fcd02",
       "version_major": 2,
       "version_minor": 0
      },
      "text/plain": [
       "Predicting: |                                                                                    | 0/? [00:00<…"
      ]
     },
     "metadata": {},
     "output_type": "display_data"
    },
    {
     "name": "stderr",
     "output_type": "stream",
     "text": [
      "GPU available: False, used: False\n",
      "TPU available: False, using: 0 TPU cores\n",
      "HPU available: False, using: 0 HPUs\n"
     ]
    },
    {
     "data": {
      "application/vnd.jupyter.widget-view+json": {
       "model_id": "b182103882e44e5b87254ebe0c1a5e4d",
       "version_major": 2,
       "version_minor": 0
      },
      "text/plain": [
       "Predicting: |                                                                                    | 0/? [00:00<…"
      ]
     },
     "metadata": {},
     "output_type": "display_data"
    },
    {
     "name": "stderr",
     "output_type": "stream",
     "text": [
      "GPU available: False, used: False\n",
      "TPU available: False, using: 0 TPU cores\n",
      "HPU available: False, using: 0 HPUs\n"
     ]
    },
    {
     "data": {
      "application/vnd.jupyter.widget-view+json": {
       "model_id": "d9a791533f1e4c609434235ca07d1cf4",
       "version_major": 2,
       "version_minor": 0
      },
      "text/plain": [
       "Predicting: |                                                                                    | 0/? [00:00<…"
      ]
     },
     "metadata": {},
     "output_type": "display_data"
    },
    {
     "data": {
      "image/png": "[encoded data removed]",
      "text/plain": [
       "<Figure size 640x480 with 1 Axes>"
      ]
     },
     "metadata": {},
     "output_type": "display_data"
    }
   ],
   "source": [
    "# === 7. Forecasting pada data validasi ===\n",
    "forecast_list = [model.predict(n=300, series=s) for s in train_scaled]\n",
    "\n",
    "# Plot hasil untuk satu contoh (misalnya AAPL)\n",
    "scaler.transform(series_list[-1]).plot(label=\"actual\")\n",
    "forecast_list[0].plot(label=\"forecast\")\n",
    "plt.title(\"Forecast {} Price (N hari)\".format(close_cols[-1]))\n",
    "plt.legend()\n",
    "plt.show()"
   ]
  },
  {
   "cell_type": "markdown",
   "id": "a0de9235-e36f-422c-955d-d008a103baaa",
   "metadata": {},
   "source": [
    "## Penjelasan\n",
    "- `model.predict(n=100, series=s)`: menghasilkan prediksi sepanjang 200 hari ke depan, untuk setiap saham.  \n",
    "- Kita mem-plot hasil aktual vs prediksi untuk saham AAPL.  \n"
   ]
  },
  {
   "cell_type": "code",
   "execution_count": 37,
   "id": "74e94ec6-c078-4afc-9bff-77baa88d2f91",
   "metadata": {},
   "outputs": [
    {
     "name": "stdout",
     "output_type": "stream",
     "text": [
      "MAPE untuk Close_AMZN: 60.73%\n",
      "MAPE untuk Close_GOOGL: 56.60%\n",
      "MAPE untuk Close_NVDA: 35.17%\n"
     ]
    }
   ],
   "source": [
    "# === 8. Evaluasi dengan MAPE (Mean Absolute Percentage Error) ===\n",
    "for i, (val, forecast) in enumerate(zip(val_scaled, forecast_list)):\n",
    "    error = mape(val, forecast)\n",
    "    print(f\"MAPE untuk {close_cols[i]}: {error:.2f}%\")"
   ]
  },
  {
   "cell_type": "markdown",
   "id": "e14140c2-0560-4f80-a01e-45c0529d3dbd",
   "metadata": {},
   "source": [
    "## Penjelasan\n",
    "- Kita menghitung **MAPE** untuk tiap saham antara data validasi (`val_scaled`) dan prediksi (`forecast_list`).  \n",
    "- Semakin kecil nilai MAPE, semakin baik model dalam memprediksi.  \n"
   ]
  },
  {
   "cell_type": "markdown",
   "id": "fd1ae3cb-573d-4af8-be81-6cae91f0d5e0",
   "metadata": {},
   "source": [
    "# Latihan Mandiri\n",
    "\n",
    "* Coba Latihan Untuk membuat Model Optimal Model Multiple TimeSeries ini\n",
    "* Gunakan Early Stopping: https://unit8co.github.io/darts/generated_api/darts.models.forecasting.tide_model.html\n",
    "* "
   ]
  },
  {
   "cell_type": "markdown",
   "id": "ab25b5ca-8803-49b5-9f58-bc83db6102b6",
   "metadata": {},
   "source": [
    "# <center><font color=\"red\">Babak Penyisihan PeDaS 2025 ... Dimulai!!!...</font></center>\n",
    "\n",
    "<center><img alt=\"\" src=\"images/Poster-babak-Penyisihan-pedas-2025.png\" style=\"height: 400px;\"/></center> "
   ]
  },
  {
   "cell_type": "code",
   "execution_count": null,
   "id": "ca47b70c-53a0-4e64-b1e3-b9931fcb4292",
   "metadata": {},
   "outputs": [],
   "source": []
  }
 ],
 "metadata": {
  "kernelspec": {
   "display_name": "Python 3 (ipykernel)",
   "language": "python",
   "name": "python3"
  },
  "language_info": {
   "codemirror_mode": {
    "name": "ipython",
    "version": 3
   },
   "file_extension": ".py",
   "mimetype": "text/x-python",
   "name": "python",
   "nbconvert_exporter": "python",
   "pygments_lexer": "ipython3",
   "version": "3.12.11"
  }
 },
 "nbformat": 4,
 "nbformat_minor": 5
}
