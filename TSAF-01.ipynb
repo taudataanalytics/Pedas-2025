{
 "cells": [
  {
   "cell_type": "markdown",
   "id": "3d13a0fc",
   "metadata": {},
   "source": [
    "<center><h1><strong>taudata Analytics</strong></h1></center>\n",
    "<center><h2><strong><font color=\"blue\">TSA-00: Pendahuluan Time-Series Forecasting</font></strong></h2></center>\n",
    "<img alt=\"\" src=\"images/covers/taudata-cover.jpg\"/>\n",
    "\n",
    "<b><center>(C) Taufik Sutanto</center>\n",
    "<center><h3><font color=\"blue\">https://taudata.blogspot.com/2022/06/tsa-00.html</font></h3></center>"
   ]
  },
  {
   "cell_type": "code",
   "execution_count": 1,
   "id": "168ce4f2",
   "metadata": {},
   "outputs": [
    {
     "name": "stdout",
     "output_type": "stream",
     "text": [
      "Running the code locally, please make sure all the python module versions agree with colab environment and all data/assets downloaded\n"
     ]
    }
   ],
   "source": [
    "import warnings; warnings.simplefilter('ignore')\n",
    "\n",
    "try:\n",
    "    import google.colab; IN_COLAB = True\n",
    "    !pip install darts\n",
    "except:\n",
    "    IN_COLAB = False\n",
    "    print(\"Running the code locally, please make sure all the python module versions agree with colab environment and all data/assets downloaded\")"
   ]
  },
  {
   "cell_type": "markdown",
   "id": "17d8a639",
   "metadata": {},
   "source": [
    "# Outline"
   ]
  },
  {
   "cell_type": "code",
   "execution_count": 2,
   "id": "0f60d9af",
   "metadata": {},
   "outputs": [],
   "source": [
    "import darts"
   ]
  },
  {
   "cell_type": "markdown",
   "id": "b51ce976",
   "metadata": {},
   "source": [
    "# BrownLee-00:\n",
    "\n",
    "\n",
    "\n",
    "* TSA VS TSF: ... diantaranya TSA understand past, causality, pengaruh seasonal patterns, trends, relation to external factors,\n",
    "\n",
    "* Konsep time series sbg supervised learning penting, baik di univariate maupun multivariate\n",
    "\n"
   ]
  },
  {
   "cell_type": "markdown",
   "id": "8c1a7ca2",
   "metadata": {},
   "source": [
    "# BrownLee-02:\n",
    "\n",
    "* Concept Drift dan Non-Time Series Time Learning\n",
    "* Definisi Time Series: variabel terururt, (kadang) ada informasi waktu, waktu bisa juga menjadi variabel tambahan\n",
    "* TSA VS TSF\n",
    "\n",
    "## Component Time Series\n",
    "\n",
    "* Concerns/Focus\n",
    "* Examples"
   ]
  },
  {
   "cell_type": "markdown",
   "id": "e6caf24d",
   "metadata": {},
   "source": [
    "# BrownLee-03: \n",
    "\n",
    "* Framing TSF sebagai Supervised Learning baik univariate maupun multivariate\n",
    "\n",
    "*  Lags and SHifts ==> Sliding Window\n",
    "\n",
    "*  One-Multi Step TSF\n",
    "\n",
    "* \n"
   ]
  },
  {
   "cell_type": "markdown",
   "id": "c9d45842",
   "metadata": {},
   "source": [
    "# BrownLee-04: EDA TS\n",
    "\n",
    "* Squeeze and parse_dates di dataframe\n",
    "* * time index membuat mudah slicing berdasarkan waktu, misal tanggal\n"
   ]
  },
  {
   "cell_type": "markdown",
   "id": "6b9173d4",
   "metadata": {},
   "source": [
    "\n",
    "# BrownLee-05\n",
    "\n",
    "* Secara umum ada 3 class feature engineering di Time Series. Tapi ini ini FE dari var yg ada, tentu saja juga bisa ditambahkan dgn external variable.\n",
    " - Date-Time Features\n",
    " - Lag Features\n",
    " - Window Features\n",
    "\n",
    "## Time Features:\n",
    " - Minutes elapsed for the day.\n",
    " - Hour of day.\n",
    " - Business hours or not.\n",
    " \n",
    "## Lag Features\n",
    "\n",
    "> Side note:  in a way model machine learning (non-conventional) good at doing this rather automatically.Bahkan feature engineering-nya jadi bisa dibilang automatis\n",
    "\n",
    " - beberapa timestep data sebelumnya\n",
    " - Weekend or not.\n",
    " - Season of the year.\n",
    " - Business quarter of the year.\n",
    " - Daylight savings or not.\n",
    " - Public holiday or not.\n",
    " - Leap year or not.\n",
    " \n",
    "## Rolling Windows\n",
    "* min,Mean/sum/max dari beberapa data sebelumnya\n",
    "* **Expanding Window** ==> Accumulative values ... Bayangkan kayak akumulasi kasus covid"
   ]
  },
  {
   "cell_type": "markdown",
   "id": "fad5d2b5",
   "metadata": {},
   "source": [
    "# BrownLee-06\n",
    "\n",
    "Tambahan visualisasi TIme Series dari yg sudah ada di module EDA: Kelebihan yang di buku ini adalah kasih tau visualisasi apa untuk apa. Bagus juga kalau di video dibuat seperti ini + kasus.\n",
    "\n",
    "* How  to  explore  the  temporal  structure  of  time  series  with  line  plots,  lag  plots,  andautocorrelation plots.\n",
    "* How to understand the distribution of observations using histograms and density plots.\n",
    "* How to tease out the change in distribution over intervals using box and whisker plotsand heat map plots\n",
    "\n",
    "* Lag Scatter Plots: ini bisa digunakan untuk menentukan seberapa mudah/sulit untuk memodelkan time seriesnya. Korelasi positif/negatif bisa dgn mudah terlihat. Lag Scatter plot ini juga bisa dibuat dengan beberapa lag berbeda seperti di Buku.\n",
    "\n",
    "* ACF bisa digunakan untuk menunjukkan apakah time-windows based model biasa seperti LSTM lebih cocok digunakan atau model seperti Transformer lebih cocok. Misal jika nilai ACF tinggi di ebebrapa tempat secara tidak beraturan.\n",
    "\n",
    "### Side Notes:\n",
    "- Gunakan: **from matplotlib import pyplot**"
   ]
  },
  {
   "cell_type": "markdown",
   "id": "f8c6dde6",
   "metadata": {},
   "source": [
    "# BrownLee-07:\n",
    "Handling coarse/fine-grained time series data. Bisa dibuat lebih fine-grained via berbagai teknik interpolasi atau dibuat lebih coarsed dengan cara seperti yg sdh dijelaskan di rolling windows.\n",
    "\n",
    "## Resampling: Up dan Down Sampling\n",
    "* Up Sampling adalah membuat datanya lebih fine-grained\n",
    "* Down Sampling untuk membuat datanya lebih coarsed.\n",
    "\n",
    "## Tujuan:\n",
    "*  Problem Framing: Resampling may be required if your data is not available at the\n",
    "same frequency that you want to make predictions.\n",
    "*  Feature Engineering: Resampling can also be used to provide additional structure or\n",
    "insight into the learning problem for supervised learning models\n",
    "\n"
   ]
  },
  {
   "cell_type": "code",
   "execution_count": 3,
   "id": "9e4358b6",
   "metadata": {},
   "outputs": [
    {
     "name": "stdout",
     "output_type": "stream",
     "text": [
      "Month\n",
      "1901-01-01    266.0\n",
      "1901-02-01    145.9\n",
      "1901-03-01    183.1\n",
      "1901-04-01    119.3\n",
      "1901-05-01    180.3\n",
      "1901-06-01    168.5\n",
      "1901-07-01    231.8\n",
      "1901-08-01    224.5\n",
      "1901-09-01    192.8\n",
      "1901-10-01    122.9\n",
      "1901-11-01    336.5\n",
      "1901-12-01    185.9\n",
      "1902-01-01    194.3\n",
      "1902-02-01    149.5\n",
      "1902-03-01    210.1\n",
      "1902-04-01    273.3\n",
      "1902-05-01    191.4\n",
      "1902-06-01    287.0\n",
      "1902-07-01    226.0\n",
      "1902-08-01    303.6\n",
      "1902-09-01    289.9\n",
      "1902-10-01    421.6\n",
      "1902-11-01    264.5\n",
      "1902-12-01    342.3\n",
      "1903-01-01    339.7\n",
      "1903-02-01    440.4\n",
      "1903-03-01    315.9\n",
      "1903-04-01    439.3\n",
      "1903-05-01    401.3\n",
      "1903-06-01    437.4\n",
      "1903-07-01    575.5\n",
      "1903-08-01    407.6\n",
      "Name: Sales of shampoo over a three year period, dtype: float64\n"
     ]
    },
    {
     "name": "stderr",
     "output_type": "stream",
     "text": [
      "D:\\Anaconda\\envs\\PostDoc\\lib\\site-packages\\ipykernel_launcher.py:2: FutureWarning: The pandas.datetime class is deprecated and will be removed from pandas in a future version. Import from datetime module instead.\n",
      "  \n"
     ]
    }
   ],
   "source": [
    "from pandas import read_csv\n",
    "from pandas import datetime\n",
    "\n",
    "def parser(x):\n",
    "    return datetime.strptime('190'+x, '%Y-%m')\n",
    "\n",
    "series = read_csv('data/shampoo-sales.csv', header=0, index_col=0, parse_dates=True, squeeze=True, date_parser=parser)\n",
    "upsampled = series.resample('D').mean()\n",
    "print(series.head(32))"
   ]
  },
  {
   "cell_type": "code",
   "execution_count": 4,
   "id": "f507009a",
   "metadata": {},
   "outputs": [
    {
     "data": {
      "text/plain": [
       "Month\n",
       "1901-01-01    266.0\n",
       "1901-01-02      NaN\n",
       "1901-01-03      NaN\n",
       "1901-01-04      NaN\n",
       "1901-01-05      NaN\n",
       "Freq: D, Name: Sales of shampoo over a three year period, dtype: float64"
      ]
     },
     "execution_count": 4,
     "metadata": {},
     "output_type": "execute_result"
    }
   ],
   "source": [
    "upsampled.head()"
   ]
  },
  {
   "cell_type": "markdown",
   "id": "09eabf17",
   "metadata": {},
   "source": [
    "# BrownLee-08\n",
    "\n",
    "* Beberapa transform dapat menghilangkan faktor trend, jadi kita hanya fokus ke pol a ttg \n",
    "\n",
    "\n",
    "\n",
    "* Metode untuk detect/ukur trend:\n",
    " - Visualisasi ==> trivial\n",
    " - Kendalls tau/regresi\n",
    "* Cara untuk detect sesonality:\n",
    " - Pertama remove dulu trend-nya\n",
    " - Plot ACF bisa digunakan dan cukup baik utk hal ini\n",
    " - Method of simple averages\n",
    "* Metric untuk detect seasonality:\n",
    " - Ratio to trend method\n",
    " - Ratio-to-moving-average method\n",
    " - Link relatives method"
   ]
  },
  {
   "cell_type": "markdown",
   "id": "19366f05",
   "metadata": {},
   "source": [
    "# More Good Tools and Reference\n",
    "\n",
    "## Gunakan TSFresh + Nolds untuk mendapatkan karakteristik lengkap data Time Series\n",
    "\n",
    "* https://tsfresh.readthedocs.io/en/latest/\n",
    "* Dynamical System Metrics: https://github.com/CSchoel/nolds\n",
    "\n",
    "## Another Good Book for univariate:\n",
    "* https://otexts.com/fpp2/index.html\n",
    "\n",
    "\n",
    "## Berbagai macam metode dekomposisi\n",
    "* https://www.statsmodels.org/dev/generated/statsmodels.tsa.seasonal.seasonal_decompose.html\n",
    "* https://towardsdatascience.com/different-types-of-time-series-decomposition-396c09f92693\n",
    "\n",
    "## "
   ]
  },
  {
   "cell_type": "code",
   "execution_count": 10,
   "id": "f4d279a7",
   "metadata": {},
   "outputs": [
    {
     "data": {
      "image/png": "[encoded data removed]",
      "text/plain": [
       "<Figure size 432x288 with 4 Axes>"
      ]
     },
     "execution_count": 10,
     "metadata": {},
     "output_type": "execute_result"
    },
    {
     "data": {
      "image/png": "[encoded data removed]",
      "text/plain": [
       "<Figure size 432x288 with 4 Axes>"
      ]
     },
     "metadata": {
      "needs_background": "light"
     },
     "output_type": "display_data"
    }
   ],
   "source": [
    "import numpy as np\n",
    "import pandas as pd\n",
    "from statsmodels.tsa.seasonal import seasonal_decompose\n",
    "\n",
    "# Generate some data\n",
    "np.random.seed(0)\n",
    "n = 1500\n",
    "dates = np.array('2005-01-01', dtype=np.datetime64) + np.arange(n)\n",
    "data = 12*np.sin(2*np.pi*np.arange(n)/365) + np.random.normal(12, 2, 1500)\n",
    "df = pd.DataFrame({'data': data}, index=dates)\n",
    "seasonal_decompose(df, model='additive').plot()"
   ]
  },
  {
   "cell_type": "code",
   "execution_count": 6,
   "id": "bf57bd32",
   "metadata": {},
   "outputs": [
    {
     "name": "stderr",
     "output_type": "stream",
     "text": [
      "D:\\Anaconda\\envs\\PostDoc\\lib\\site-packages\\ipykernel_launcher.py:3: DeprecationWarning: inspect.getargspec() is deprecated since Python 3.0, use inspect.signature() or inspect.getfullargspec()\n",
      "  This is separate from the ipykernel package so we can avoid doing imports until\n"
     ]
    },
    {
     "data": {
      "text/plain": [
       "ArgSpec(args=['x', 'model', 'filt', 'period', 'two_sided', 'extrapolate_trend'], varargs=None, keywords=None, defaults=('additive', None, None, True, 0))"
      ]
     },
     "execution_count": 6,
     "metadata": {},
     "output_type": "execute_result"
    }
   ],
   "source": [
    "import inspect\n",
    "\n",
    "inspect.getargspec(seasonal_decompose)"
   ]
  }
 ],
 "metadata": {
  "hide_input": false,
  "kernelspec": {
   "display_name": "Python 3 (ipykernel)",
   "language": "python",
   "name": "python3"
  },
  "language_info": {
   "codemirror_mode": {
    "name": "ipython",
    "version": 3
   },
   "file_extension": ".py",
   "mimetype": "text/x-python",
   "name": "python",
   "nbconvert_exporter": "python",
   "pygments_lexer": "ipython3",
   "version": "3.10.15"
  },
  "latex_envs": {
   "LaTeX_envs_menu_present": true,
   "autoclose": false,
   "autocomplete": false,
   "bibliofile": "biblio.bib",
   "cite_by": "apalike",
   "current_citInitial": 1,
   "eqLabelWithNumbers": true,
   "eqNumInitial": 1,
   "hotkeys": {
    "equation": "Ctrl-E",
    "itemize": "Ctrl-I"
   },
   "labels_anchors": false,
   "latex_user_defs": false,
   "report_style_numbering": false,
   "user_envs_cfg": false
  }
 },
 "nbformat": 4,
 "nbformat_minor": 5
}
